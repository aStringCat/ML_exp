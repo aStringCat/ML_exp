{
 "cells": [
  {
   "cell_type": "code",
   "execution_count": 2,
   "id": "b84ef48d",
   "metadata": {
    "ExecuteTime": {
     "end_time": "2025-05-25T13:36:18.250241Z",
     "start_time": "2025-05-25T13:36:18.246866Z"
    }
   },
   "outputs": [],
   "source": [
    "import os\n",
    "import time\n",
    "import pandas as pd\n",
    "import librosa\n",
    "import numpy as np\n",
    "import matplotlib.pyplot as plt\n",
    "import torch\n",
    "import torch.nn as nn\n",
    "import torch.nn.functional as F\n",
    "\n",
    "from torch.utils.data import DataLoader, Dataset\n",
    "from tqdm import tqdm\n",
    "from torch.nn.utils.rnn import pad_sequence\n",
    "from IPython.display import clear_output, Audio"
   ]
  },
  {
   "cell_type": "code",
   "execution_count": 3,
   "id": "67dea205",
   "metadata": {
    "ExecuteTime": {
     "end_time": "2025-05-25T13:36:22.142275Z",
     "start_time": "2025-05-25T13:36:22.135166Z"
    }
   },
   "outputs": [],
   "source": [
    "# ---- 数据集加载和特征提取 ----\n",
    "\n",
    "class AudioDataset(Dataset):\n",
    "    def __init__(self, dataframe, data_dir, n_mfcc=13):\n",
    "        \"\"\"\n",
    "        Args:\n",
    "            dataframe (pd.DataFrame): df contains file names and labels\n",
    "            data_dir (str): data directory containing audio files\n",
    "            n_mfcc (int): MFCC features count\n",
    "        \"\"\"\n",
    "        self.dataframe = dataframe\n",
    "        self.data_dir = data_dir\n",
    "        self.n_mfcc = n_mfcc\n",
    "\n",
    "    def __len__(self):\n",
    "        return len(self.dataframe)\n",
    "\n",
    "    def __getitem__(self, idx):\n",
    "        \"\"\"\n",
    "        Returns:\n",
    "            features (torch.Tensor): (seq_len, feature_dim)\n",
    "            label (int): int\n",
    "        \"\"\"\n",
    "        row = self.dataframe.iloc[idx]\n",
    "        file_name = row['filename']\n",
    "        label = row['class']  # class 列是类别名 ('dog', 'cat', 'bird')\n",
    "        \n",
    "        # 音频路径\n",
    "        file_path = os.path.join(self.data_dir, file_name)\n",
    "        \n",
    "        # 加载音频并提取时序特征 (MFCC)\n",
    "        y, sr = librosa.load(file_path, sr=None)\n",
    "        \n",
    "        # 提取 MFCC 特征\n",
    "        mfcc = librosa.feature.mfcc(y=y, sr=sr, n_mfcc=self.n_mfcc)\n",
    "        mfcc = torch.tensor(mfcc.T, dtype=torch.float32)  # 转置为 (seq_len, feature_dim)\n",
    "        \n",
    "        # 将类别字符串映射为索引\n",
    "        label_mapping = {'cat': 0, 'dog': 1, 'bird': 2}\n",
    "        label = label_mapping[label]\n",
    "\n",
    "        return mfcc, label\n",
    "\n",
    "\n",
    "# 由于不同音频长度不同，需要使用自定义的 collate_fn 来将同一个 batch 中的音频 padding 到其中的最大长度\n",
    "def collate_fn(batch):\n",
    "    \"\"\"\n",
    "    for padding data with different lengths\n",
    "\n",
    "    Args:\n",
    "        batch (tuple): (features, label)\n",
    "\n",
    "    Returns:\n",
    "        padded_batch_features (torch.Tensor): (batch_size, max_seq_len, feature_dim)\n",
    "        batch_labels (torch.Tensor): (batch_size,)\n",
    "    \"\"\"\n",
    "    features = [item[0] for item in batch]  # 提取每个样本的 features\n",
    "    labels = [item[1] for item in batch]    # 提取每个样本的 label\n",
    "\n",
    "    # 对不定长序列进行 padding，填充后 shape: (batch_size, max_seq_len, feature_dim)\n",
    "    padded_features = pad_sequence(features, batch_first=True)\n",
    "    labels = torch.tensor(labels, dtype=torch.long)             # 转为 Tensor\n",
    "\n",
    "    return padded_features, labels"
   ]
  },
  {
   "cell_type": "code",
   "execution_count": 15,
   "id": "0a2ea00e",
   "metadata": {
    "ExecuteTime": {
     "end_time": "2025-05-25T13:40:32.172898Z",
     "start_time": "2025-05-25T13:40:32.160766Z"
    }
   },
   "outputs": [],
   "source": [
    "# 加载训练集和测试集路径\n",
    "dataset_dir = \"data\"\n",
    "train_csv_path = f\"{dataset_dir}/train.csv\"\n",
    "test_csv_path = f\"{dataset_dir}/test.csv\"\n",
    "train_dir = f\"{dataset_dir}/train\"\n",
    "test_dir = f\"{dataset_dir}/test\"\n",
    "\n",
    "train_df = pd.read_csv(train_csv_path)\n",
    "test_df = pd.read_csv(test_csv_path)\n",
    "\n",
    "# 创建数据集\n",
    "train_dataset = AudioDataset(train_df, train_dir)\n",
    "test_dataset = AudioDataset(test_df, test_dir)\n",
    "\n",
    "# 数据加载器\n",
    "batch_size = 16 # Tips: 你可以根据显存来自己调整来获得最佳性能\n",
    "train_loader = DataLoader(train_dataset, batch_size=batch_size, shuffle=True, collate_fn=collate_fn)\n",
    "test_loader = DataLoader(test_dataset, batch_size=batch_size, shuffle=False, collate_fn=collate_fn)"
   ]
  },
  {
   "cell_type": "code",
   "execution_count": 16,
   "id": "b5c31deb",
   "metadata": {
    "ExecuteTime": {
     "end_time": "2025-05-25T13:40:34.312059Z",
     "start_time": "2025-05-25T13:40:34.306295Z"
    }
   },
   "outputs": [
    {
     "data": {
      "text/html": [
       "<div>\n",
       "<style scoped>\n",
       "    .dataframe tbody tr th:only-of-type {\n",
       "        vertical-align: middle;\n",
       "    }\n",
       "\n",
       "    .dataframe tbody tr th {\n",
       "        vertical-align: top;\n",
       "    }\n",
       "\n",
       "    .dataframe thead th {\n",
       "        text-align: right;\n",
       "    }\n",
       "</style>\n",
       "<table border=\"1\" class=\"dataframe\">\n",
       "  <thead>\n",
       "    <tr style=\"text-align: right;\">\n",
       "      <th></th>\n",
       "      <th>filename</th>\n",
       "      <th>class</th>\n",
       "    </tr>\n",
       "  </thead>\n",
       "  <tbody>\n",
       "    <tr>\n",
       "      <th>0</th>\n",
       "      <td>000.wav</td>\n",
       "      <td>bird</td>\n",
       "    </tr>\n",
       "    <tr>\n",
       "      <th>1</th>\n",
       "      <td>001.wav</td>\n",
       "      <td>cat</td>\n",
       "    </tr>\n",
       "    <tr>\n",
       "      <th>2</th>\n",
       "      <td>002.wav</td>\n",
       "      <td>bird</td>\n",
       "    </tr>\n",
       "    <tr>\n",
       "      <th>3</th>\n",
       "      <td>003.wav</td>\n",
       "      <td>dog</td>\n",
       "    </tr>\n",
       "    <tr>\n",
       "      <th>4</th>\n",
       "      <td>004.wav</td>\n",
       "      <td>bird</td>\n",
       "    </tr>\n",
       "  </tbody>\n",
       "</table>\n",
       "</div>"
      ],
      "text/plain": [
       "  filename class\n",
       "0  000.wav  bird\n",
       "1  001.wav   cat\n",
       "2  002.wav  bird\n",
       "3  003.wav   dog\n",
       "4  004.wav  bird"
      ]
     },
     "execution_count": 16,
     "metadata": {},
     "output_type": "execute_result"
    }
   ],
   "source": [
    "# 查看下数据集，其中 class 表示类别，数据集中的类别有 cat, dog, bird 总共 3 类\n",
    "train_df.head()"
   ]
  },
  {
   "cell_type": "code",
   "execution_count": 17,
   "id": "6e48df14",
   "metadata": {
    "ExecuteTime": {
     "end_time": "2025-05-25T13:40:35.232447Z",
     "start_time": "2025-05-25T13:40:35.226236Z"
    }
   },
   "outputs": [
    {
     "data": {
      "text/html": [
       "\n",
       "                <audio  controls=\"controls\" >\n",
       "                    <source src=\"data:audio/x-wav;base64,UklGRqJoAABXQVZFZm10IBAAAAABAAEAgD4AAAB9AAACABAAZGF0YX5oAADr/wf/jv4H/+7/tQBPAGX/fP9+AAUBtf9//n7/2gDvAMQAHQHHAKcAQgE1AdkA0//Y/uH+B/9n/n3+7gB2AkoB7v+s/hj+sf/1AFkBJQEXAfMAav8Z/zwAagGPAacAUf7s/Jv90/0A/zsBMwJ5AegBgAGi/5v/tP+I/zMA9QBNAXUAF/89/9T+fv6g/2gAaAA0/1/+3f6H/+wAgQEkAP3/3wCOANn/Yf8BAFkAyv7O/nT/3f/IAG4AggBNAXEApv5l/mL+u/18/vr/iwCaAcAC/AEKAT4Aev84/4z+If/l/7T/VAB+ANH/L//y/pv/HgCl//z/cABTAK0AZQApAJwAiQHpAD//yf7C/rj/sAA0ACb/3P/fAKQAtgAGANf/HgAEABwAcQD+AFAB5AFTAXr/Lf6q/rP/3/9q//v++/7o/+gArQD1AAQA3v4U/3r+4P7U/3IAtwAwAP//EgH9AaAB6QBj/1X+C/7f/fH+Zv+w/54AgAAyAFEAbgCt/zH/pv6X/hQAuQC5Af8BIQF9AIj/fQCKAEj/4f+RAD8BGgKhAWz/G/57/6IBFAJOAMf+cv67/lT/IP/i/tD+dQBkA70Cw/9m/YD8V/0j/lf/dwDBATkDCwJMADEAdgAdAG//Nf8m/9/+2f78AOH/ogAZ/qf/1wVx/c/6WQBXBCb5TAOPD6P5+Pzx/3fwi/s9DUMPfQk0+0n82f3J8xn0tv79CEkJXglBAqH3mu8S7ur7HQa2C3sNyQkvDxMPKwqSCioFRgM/AmYAMwNDAwEBIvz498z2hfOw83D3ofo4+5j4qvYW9X70FPWE9fr3ZvyA/X/8A/3h/Lz9+v74/Yj+9/6f/90A9v63/e38sPxx/ugAegMrBaUGQQiwCtcMlQ0IDJYKYQstC80KAgsBChUIDga5BCsDQAINA5MC7gC0AC8A0f70/pf/F/+z/gv/zf3p/Dj8CPuf+z771/oF+qT5o/rY+Tv5E/nW+Yb5svfK96n4FPq/+jj7mfzE/S3/YP+Y/vv+kv+y/yYBwgK8A2oF3wSzAfv/UQAvAlsDJwOpAzMEUwRtBLYEBQVWBrYHLQbkAu8BOQN6A+wCcQFEAH4BRgIvAe3/Ff/f/sD+0P3q/Zr+w/6v/nr9OPzi/Ln9gv2r/W388vqZ+/b7vftV/M78NP4j/0D+jvyd+6H9o/6y/xQAbv+0/9r+Cf+B/+IB2wLtAJwADABPAf0CrQNuA7wBTAKdA6ACEwGKANMAJgGQAesCzQI0Ag0CcgHMAXUBPACk/sX+GQCl/+D/RwEpAdD/QgChANv+F/2O/J/9qf65/z0BGQGY/0j+Ovwo+4T81/x0/Ir82vwE/uD/wgE7AtwAYwADASMA7P+iADMBTALgAdQA1gAKAZoBogA6AGQBNwF/AVMCQAOBA9wCwQKNA6UDqgEsAJP/Cf84/5L/awD+AHEB2AHVAE0AYADz/j//4wB5/zb+tf61/6r/mP1N/JL9tv5g/Wb7CPyT/tH+eP1b/RP+6f9BA/AB7f6DAeEBWwBrAAIAEgLHAqgAQ/8j/t/++P8N/6j+Nv6K/Wz+hv+7/+IAJwJAASABsAD5APUBHQAdAFsBqQHOAU4AU/9uACUBpAADAKj/rf+e/8v+0v51/7v/WwC8ADQABv97/y8A2v/t/8kA1AKpArj/PP4I/mD+m//5/h7+NP5G/o3+8f3l/kgBJALRAVQBDgCa/ob/TgFMAfwAIgF4AYIAFADA/6/+kgBUAg4B4/6r/vr+lf/PALMAEgGLAWsBnf9o/af+JgAhAfEBxgCI/8T+zP72/tn+IADOAJj/OP6s/Y/+pP8TANYApQFVAdj/8v7X/ZD9FP8gAFIBcAExAWgBpQDGAHEB6wDV/5b/Xf9h/mf+l//wAGcB5v/K/mj/vf8p/0X/W//V/zQB2wCEAK0BDQI7AScAu/9A/5D+7f+1AMD/k/8j/1f+AgD/AQ8CTAEIANb/vP9+//4A9ALxAkMC7QAM/xf+h/5sABIA9f5u/9X/dABZAOn+aP6P/7r/1f4u/of+dQCFAIn/nQA6AQkAff9DAOr/Yf+u/i/+A/9T/pj+HABrAJ4AJgAMALUAIQC4/6QA8QCu/1r+Cv+9AEYBdf8k/pf+Jf87//r9+v3U/30BrwEAARQA7v7C/wMBKgGZ/0n/owHZAS8BfQHkADcAhAGBAdYApQA8/+f/zADUABUBKwB5AIMBggASAA8Asf8EAHn+jP2D/9EBAgPmAZYAaACNAND/3P2c/Zv+mv9FAPsAvwHIATQBav/V/sP+Mv6O/ov+ff4PAPMB4wFzAaIAuP92AO0A1//h/ln/4P+1/5H/Z/8O/03/Uv+g/s3+Jf/d/7wAVQAvAE0BrwKTASz/wf/bAEcBqQDc/ab94P+7AJcAkQAwAIL/bP+aACMB/f8RANf/r/+zALMAfACi/8L/lQC3/rj9hf8CAJn/IwAvAHIAWwBI/23+mv74/gH/yP/7/0X/bP+1AHkBPgBy/7H//wBUAnkAHP5g/ioArAD9AKwB1QAwAE8BuQDk/eL8Tv5sAAMA8f54ALUBUwBe/Zj7ZP2mARUDUQBV/uP/mwEEAooBSwADATgCMgHA/o/84/zk/k0AVgGeAB8A1QE0ARQArv9w/10BewHm/4v+/P0tAOcB8QFcAQMAtP/Z/7r+8/09/jj/4AE9A8IBvwDFAEUBbQGE/+X9dP4q/xn/pf/RADsAc/86AG8BvwAs/jL92/1a/kP/GwAlAPIAOQGS/4X+5/5V/wsAmACVADwAbf9i//n+aP7M/9kAbgFsAqsBev+7/p4A1gHyAWwC8AHpAYwBKf/p/Zb+Ov9Q/8f/mwCpANMAtACUAOsAlwCO/+r+i/8MAEEANgD4AAQCEQGy/9L+W/6R/gsAugB+/8//8gCUAOv+Gv6P/sH+1f92//39dP6F/zAA+P+xAOgAUQAKAdn/j/3o/F/+awCbAOIAbwFsABf+Rv0o/3kABQF3AdsADwBeAHEAbgBNAWoBjgGXARMA2f5l/qr9Uv54AK0BmQIWA+ABpABiAEsA7P/B/0D/Vv6e/4gBrwD3/1wAsQDMAOf/oP9JAMkACAGJAN7/KADHAKkALwCX/xf/w/5v/gT/Df+z/mX/IAAKAUQBFAAS/zX/2v9MAD8A8P94AK8BTQExAE4AlgBZAKn/of49/hT/t//Q/53/yf/LABsB1AAtABH/R/99/2D+VP7k/tv//ABDAHb/Ff/w/Vr9wv2T/rr/JAABAKgATwB8/97/ov+R/7//av8uAKEAtQDwANX/Xv+AAPoAMAFLAO3+NQBCAfcAegDq/wsAAgGMAp0C0gDb/5j/0v41/sT+LQDuAIYBewFtAa4BBAF1APj/d/+k/18BFwLLAA0ALP/u/+8BhgGSAA0A9/8XAJH+Pv7n/38AJwBQAIkBMAI6AJP+F/+O/gX+Ev/n/zgAzQDnAHkA4gA9AE3+pPwE/Dr93v5w/7z/RgAcABf/cP3P/DX9lP2T/0ABjQGcAQ4BqgAvAOT/NgDVAEwAk/6d/XT+z/+r//7/fACX/4z/+/8W/+f+JwCgANAA8QD5/+7+OwAVAoYBpgBZAEL/9/1f/rX/GQAOABwBtQJnA0UD9AH3/w//CP++/y0BKgEHAZ0BBwHkAAUALf54/a/9s//CAJb//P+JAUkC4gGMACoA0wCSAF0APgD1//oAqQCw/zIBgQHk/zD/pv8XAN3+0P0x/2oBiQIrApgAdgAeAVMA7P/h//j/7QDzABL/Rv4GAPIApf+T/8H/fv/6/9n+9/2I/gAAvQGbAcv/8f6Z/6n+0Pwf/Wb/lQDt/yIAIwFCAt0CQQG6/3b//f6F/un9+/1m/64A0/9g/sn+Z//6/4oAWwAKAQMBaQCwAIcAXQD+/z0ADgE0AET+TP1S/UT+4v8KAET/KP8vAJIBHAJTAhwBTv/A/sf91v1x/57/c/8eAJoAFACl/48AjwAp/wP/bgCuAXkBMwCxADQCsgHx//b+Xf/l/47/Qf9f/1sAJgFVAIH/SP9U/4f/rwDAAIv/yv8MAEcAcQFgAlUC+wHZAHP/KP+i//L/rv87AAAB4wA8AOb+kv6n/2AAbQBDANz/Sf+7/3gAvv9p/xUAfgAxAcQAcP9E//f++/0t/r3/ngAAAVQAp/6d/n7/Bv/K/d7+7gCbAb4BPAGtAEAA8P9V/+L+yP/B/6P/GQCc/8n/p/9o/v/9wv4PAGkAwf/s//T/3v9SAOwAbAHqACMA7v/q/5X/Dv/U/g3//AAoA/QBxf/G/73/hv81AM3/pv+m/uX9wv8sAMoAAQKoAbIBqgGdABMAY//Y/kIAYAD/AMgC+QHVAT4BhP9O/xr/OP/h/3YAiQHWAbEATgAhAEH/3P8fAHn/fP+x/pb+wf8RAHEA7gAnAXoBkwD6/0UAof/a/i3/bf9k/xcAWQDW/2b/2f+GAGz/+f3g/VT+Lv6n/rD/nv9LAOIA7gDu/4b+ZABKAfT/y/8rAI4Anv+G/o7+w/5W/7D/t/+9/74AhAEpAb4AbQB/ANP+2P7zAPAA0wDE/1H/5QB6AJX+c/4x/+P+Uf9dAB3/MP6T/8P+n/3j//MAXQBEAfkBdgDS/pf/iQApAJ4AvgFLAmICQAHo/0T/cv7P/tn/tP8Q/0j/jwD9ABkASf9Q/0IAwABZ/5r9hv38/pX/9P6I/Qj8P/0y/m/8ufuF/HT8EP0n/uv+rAB7AW0Adf+J/8b/0QBsAxIF5wRRBWUG3QZLBgsGSAbJBVwGqAbTBucFNQTrA3oDvgRTBeEFJQcyB+oGGQWFBKoEkwMeA8UDZAKG/+n+Bv0i+xL6SfhA94L2ZfjV+Qr5Cvgi99j4Ofqs+Mz3yvfW9x/4O/f+9dX16PcO+xH8PvuA+rj79fsW+4n7svtC/Un/UAAFAPgAQAJWAtACqQI4BAQE5QJNBLMFugVxBcMFSQU4Bp8ELQPNBC4E0QRzBb4EAwR4A00DpgIzA6gD6AI7AlQC7QLvAWEADwF7AUQAkwDJAKT/Zv9x/w//KP9fAFsB6gAY/6H9RP1y/AX9J/4x/4kA2v8X/x//Cf+X/lj+w//PAHz/Vf35/DX/VwFkAS8Ak//3/0wAlv9A/rX+nP7h/QD+1/3E/ib/ev+m/8j/0ABXAIr/4f0X/b7+vv9LADcAMQC1AGkBMgGZ/xz/7P7Y/hD/bQCFAmMChwF8AdMBhwGWASICqAFMAJv/CQH0AHP/HwCgAfYAqf/S/7b/yv9W/13/6f+HAO0BWAGXANQAaQHZAToBnv+1/tH/CAGvARoAjf4Z/zQAugCG/vv8o/wC/Q3+If4I/rb9G/89AGD/ZP4V/rf/6gAbAI7/yP81AJcAfAB8/5f+gv9OAPT+2Pyk/Gf+vv9cACn/I/0L/tX/bwDJAaUACv5F/6YAAAFoAsQCkgHIAdoCaAD1/YcAAwN3Ah0ClgEkAUIB7ADOAFsBWQLlAaD/mv5m/9f/ZwDIAJcBVgPMAu4BhQFXALj/nP6M/jEATAGwABsAgAD2/wj/4f5T/+j+CP8VAXACjAFu/1n/3gAbANv9VP6O/8z+N/+F/+f+Gv/2/3IAe/9//7cBRwGt/jf+DP34/D3+Uf6f/sz+1v95AMgACgCh/h0ACwGhAMkASgCE/7b/nQCzABgAjf4o/Zb9iP6Z/oH+VABaAVIBEAKPAWAAZv9I/+H/kv+R/3sA5QCnAWIBdQAIAdgAAwDy/l7+UP92AOwBlwH1/9n/w/9A/4n+4/6gAE4BawELAcf/yP///+7+pP5O/3kAoAE5AXj/Iv4M/7QArgAMAHcAHwElAB//Vf/P/jL+OP9LAOH/aQCZAbsAegC/AOn+l/0X//gAQQFpARoB5AArAZkAyP9+/4YAiwFQAdYACQEkAcsBuAIlAREASwAJAL0AWwC6/hX/8P/5/5QAgwCyAB4BawDB/yL/Pv9m/4H+1f0q/lz+uv6J/5H/iv9p/3D+pvxU/I7/3QFGAVoAMQCPAe4BKQB7/hv+Cv8jAJX/If8iAFMAOQCV/2D+EP/mABsBEQHOAGP/BwDYAIb/Mv7F/n8AnQDl/zsAPwDH/4P/FP/V/+YARgHtAZ4B5QDIAAsADwBAAD3/Yv/c/4f/wf9Z/6v/aAI4Al7/E/84/6j+8v5O/7UATgKuAXAADv90/iD/9v5a/xoAhAALAZEAcv8K/4T/i/81/w//s/8GAAYAhwAtAF0ANgEdAdEB+gFCAJcAQADW/mX/L/8NAKsBYgDX/j4AfQGB/+H+wgA9AWIAl/8EAKMAKgFJAAn/nQBcAR4AGv82/2oAWQGjAKz/aP41/5AA4v2s/zYCGABz//7+7P4KAFoANP+6/uj/ogBV/079A/7V/w4A+v/w/4IA2gEqAWz/eP92/zf/8f5R/+YAFwEfAXsAdf5o/rP/agCpAFkBmAEuAAn/Zf/+/xsAmwAsAXgBjQHpABv/Tf6i/5IAagB3/0cADwLRAS4Bjf/W/iAAEACj/2P/R/9cAH8A7/+u/1z+eP5o/7L9zfzY/scAvQHYAIP/qwBUACz+WP66/iEA3AGjAHD/U////+sAuwAGAH0BlQIcAREAyP9yADgA3P8WAX8BZQCu/kD+Mv/R/2D/b/4M/3cAZwBW/yr/AgHLAZcAJgFHAej/FQC6ACkAdgD7AaUBqwA2AMH/Vf/o/8wAXP9Z/wcAUv5f/tL/uP9t//j/FQAlAPr/iP+M/5kA4gJxApMAjf+W/gMA+f9O/sf+BQAUAWUAqP5q/rP/5gCMABkAYwCl/7/+V/7m/lEArABPAI0AywCfAPf/F/8s/63+N/87ACgAkQDn/zD/a/84ANAAIABW/7n+Ev5j/mr/+P8MAC8AxgCTAPz+c/5i/z0A7QDmACoAVv9d/2gAHwG4ACX/uf17/dT+FgCrAPABFwMRAzgCLwE+AB4ARQC+AEcBNQGfAAsA/P9n/+v+Mv97/77/BAAuADQAYQDZ/2b/bQB9AQECxwBL/2oAFwFUAFj/e//yAB4BLAHkARUBVgDXAAoA9f4B/wj/If/9/5L/Pf5+/pf/ZAAF//f9Yf4S/vL+SP9y/r3/RgHz/6z/YABX/jr+Lf8e/zD/Ff/I/8AAugHVAFf/lP+/AGYBmgAkAKwAHQHHADYBjQESAPf/qP9e/wQAOf7B/kkA4//+/1L/BP8l/yL/3v8/AnMCKgEjAVIACAGpAKkAyQF3AiQDkQBO//r+fP6Z/iT/jwCGAJQANgA9/3r/bwGFAesBGwLH/2r/CP5r/rwAFAHwAP3/af8Y/6L9mPzB/gwBKwDS/fn8d/61/3MAIwBO//f/5/8t/8T+uf7z//cAXgHYAUIBggCtAIz/mP19/W7/6wDLAMT/4P6T/40A3gBRAMT/OAAWAO7/BgDF/0kATAEIAXH/m/4L/23/Yv+U/3IA2QD1AIEBXQFfAPX/jwBhAEAAQADF/2//e/8AAakADgChAcAB+QA8/4v95f4NAXIATQDnAa4BQwAo/+D92Pzj/WP/CAAeAUIBhgBZAA0Az//z/2cAzwAYAGX/bv/i/2cBkwIjAjsB+gD/AKEA2/8//1wAXQLUAUD/Kf6X/on/yf+k/mP/NQCm/uX9g/3J/Z//pwCiAHD/Q/6L/g3/Nv9T/5gANgFnAJMAwgDz/wAAFgHnAZUBz/+3/nD+Cf8ZAGr/dQBdApECLQJw/03+MQC0/0L+fv7YABMCq/8X/gX/vAAdAF//TP8h/0gAZv/e/moAvgBrANb/lAA8AX7+Kf4NABYAVwCAAJEAPwHnACz/0f7a/y0BHgFG/5r/xQCTAIkAzgDDAHUAGgC//7v/n/6q/Yv+Kf/r/xQAQgDvACkAZP84/8v+bP79/kAAWAGWAPP/UAHCANX/+ABPAIL/5v+5/rD/qgEDAVUBPgLwAWMBqwDU/hj99f0o/yP/BgCtAAkACAAKALH+b/56/73+BAA+Adf/XQFuAuQB+gG3ATsBhgCK/xb+l/2V/uf/5QBWASEB2ABsAEv/w//zAJ0AgwC/ADsARv9m/1MAJQFZAR4A7v8n/8P+dwDq/tP+3gBvAG8A7P/C/gn/AACa/6/+4/4C/4X/xP/d/8kAZAD2AHcCXQFaACEAT/+6/gn/tf9L/9T/dQH8AF3/SP/a/5z/Uf6+/Jj9Nv9xAHoCqgKDACr/6f89AJL/nP7d/Sj/yQAVAWcAIwAEAYoA1P+f/6j+hP7X/gsARQEfAX8BUQENAHP/Mf9A/jH+LQBFAeEA6v8T/zQA3wAs/yb+TwC2Ar8Bdv86/3QA4ADRAAIAdP9WAFcAv/+z/0P/lf43/wgBkwGDAVwB0P8XAOoBCwEu/1//df8o/rj+tQAbAckAqgBhAGMA3ADVAGz/I/5a/ln/OgAfAEv/2/5TAJsB9f7p/TcA6/+F/xwAAgCpAFcAxv5c/qn/EwFDATAAXf8tAO8ArgCd/2b/iwGgAs0AIf+//lz/4P94/wQApAAjAUUB6f+M/zMAFQBe//f9x/0O/9H/0QBPAcgAzwC3ABkA3//q/uL9XP92AaABbAB9AL0CTgNSAV8ANgBm/yX+Zv2U/ggAUAGMAWAAjgC8AE//ZP47/+7/W/+f/uj+yv+LAO8ABgDg/4MAXv92/uP+VP9I/4f//v+c/7b/awCbAIz/8P6FAEMBygDZAHkAvgAcAfv/Q/8s/4P/EgB7AMQAu/8n/u7+pQBXAPn/1/9w/5v/Hv8Z/iX+7/9JAW0AEwAcAAkASQELAXj/GgCIAV0BtAC//yEAXQFQAUcBkv8e//D/zP7R/jP/c/9AABcBbQE/AVEB/QBOAHb/af+Y/oD9Ov58/qj+Kf9RACUAov6X/wcACQAxAHX/rP+dAL8B9gDc/28AggFjAQgAPgDF/yX/HAAeACcAuQHUAusBqQBPANQAOABG/8D/4/+sAIgAqP+6//b/EQAO/+H+Nf60/bn+Tv8nAK8ASAFjASQAbf9q/2v/af/B/i3+P//vAG8BeQErAe0AnwCV//b/SP9g/vb/TQFFASAB5wAgAOv/BP8//kH+ov7R/6P/sf8MABIAkgCY/+n+c/4e/9IAIwGaAU4CkAGaAB4BDADq/kP/gv8aAHz/Iv4m//r/1P5x/3EB9gKpAngARf55/bz95P4nAaIBfAF2AgADcgE3/uL99/7j/uP+6P21/XP/dwCv/xP/wv6R/v//EACr/14BRwGzAHUByADe/w0AgwAjAQsBUgB/AHsAof8U/wcAqADx/24AuAAVAKL/6/+m/2D+wv47/+z+3f8NAWYA4f+GAGQAv/8t/w3/uf+SAAwB+gBaAOj/3P+f/8j+vv7t/8cAHwFjAPf+jf7B/98A/gBDAVcB+wGSAbD+zvzW/Q8A+v+n/uL/+gEjAu4Au/8H/0n+1P6FAPcAOwH3Ac4BCgG7/wD+5f2n/hD/0v82AG0AygDaAMMAnQCSAG0AewCWAFEAOwDJAMUBRQJ+Adr/5//uAP0AlAB6/w7+Bf5y/tz9Jv7C/5MBvQF4AMD/Tv/6/tv+Rv/f/6kA/AAhAYUB1f+L/pv+j/5R/vn9+v7A/5//sACTAREAkv/L/57+t/06/tL/wf9r/08ABwHnABEAA/+E/nT/t/9Q/3L/IQDRAJcANAHRAGwAfAG7AcwAMv9e/0YA1wHFAhsCLwGVAOoAUf8j/jH/8P9CAJr/3f4F/5f/GADC/4v/XwAOAW4Atv9q/1P/PgBWAXAB/gDFALoApwDLAIYAb/9//5MAQwC//pb+4/9bAHMA0P8r/04AjABC/1z/TwBqABkAcP9E/zn/0P8XAX4ADACFAO7/eP94/zv/Vf/9/5T/M/9C/4v/TgHMAAf/u/4g/6//MP8R/+H/6gCYASIB6f9O/3n/7P/MACABfADq/6L/DQBmADn/df6D/uL+DwCAADwAQwDvAEkB5AD4/3H+K/4l/zUALgCv/5oAKwE1ACD/0P6E//wAKQAx/kL/qgDq/9b/pwB5AGoAFABu/zD/pP8+APr/wwDQAbIBdAHdANQACgG9AFsAoP9p/1X/Ff9Y/50A7wHOARUBtwDv/9b+2f7z/jX/9f+i/4v/PwDg/zX/9f+9ALUASwDj/2L/cP/AAIEBigHXAa8B6AAVAMH+Hv7t/nEAkwG3AAj/N/+1AKoAxv+X/83/tAD8ANP/B/8s//T/9P/7/wMB3AAKAGn/sf6k/kv/Vf8E/3P/AQCLAPsAhgD//6z/b/9//zwAiQC+/ycAGQB//7n/Jf/N/uT+pv7q/moAdQGjALD/FP8B/7b/7v9z/3b+U/4t/2v///9iAGQAAgEYAecAqgDN/wj/1f4B/5z/LQA6ABwA3//2/9YANwH2/x//mP+cAEYBlgB+AOoA9wCgASoBuv9u/uL8vP0hAEMAu/9xAJcAhwFRAjQAJ/5B/tL/OgGJAegAqwBhAQACVQEBAGoA6QDNAIgBfwBI/9r/kP/B/1UAr//L/8b/9v4c/7r+bP6SAAICMAE2APX/dQDz/zH/rf9CAD0BrgC+/m7+Bv8DAMsASAD0/v3+FwA8AEz/9P6z/9P/DAAJARQB7v+1/yUA7v+2/3b/gv/w/xAA9//9/x4AEQAHAKX/zP7I/lH/v/8hAEr/Yv5P/4AAoQBnANv/Hf8P/yP/Sv+8/9D/3QAQAhwB5P8sABQB7QA6/5v+awDRAaEBcwBO/9D/oADhAIz/GP6G/lX/SQBRAK//XABpAbMArv8n/8v+tP7i/ej+4QEuAuoAjQGfAa//RP8IAFgADQEeAT8Akv9L/+r/rQAnAYsBVQB+/x8A6v+v/kv+A//V/gr/IQCn//3+OgDEAAMAqf+Q/3kAwwC2/8f/CAHiAc8BoAC1/6cArwCZ/xYAPwGtAZQB3gBWAPEAugB2/zL/Yv+V/0cAjQAfAKz/if9D/+T+qf6T/jb/Df+S/lj+DP7b/wUBGwBk/67+FP83AEsAmP/M/oH/iQCqAAkBgwCTAFgBIwAQ/zT/Sv8j/5H/w/9H/9v/9/9z/9f/4gAlAvUB2QC3ALUABwCO/0gAagFSAYcAvQD4/4n9Hv3g/mEApACtAFgBqAEHATsAzf+uAOkBpgAn//T/uQDgAKAAOv8I/9D/Xv+W/h/9Nv1vAEUC1gEGAaX/Bv82/0n+if0G/1AA6ACWAAH/p/9aAKL/af/I/tT+vADOABz/df9OALcAGAHBAFYAcgDZ/x//WQD8AJgAuQD4APMA5P9L/2X/9f90ATECcQGk/8T+zP70/t7/zv/a/0oB+wC6/xgABQAHAEcAgf+U/6H/f/+3/zwAqgEvAiYBZ//p/nz/CP+c/mf/0gCCAekAhP+C/nT+xP6f/rH+eP8rADMAp/8GAHgAsAHBAt4Ahv+F/17/sABVAX8A8wCwAeUARf5V/Br+jAAoABL/Gv9A/6H/j/+m/mH/+wCCAV8BGgDC/yEBawBG/2UAHQE7ANH+Tv+cAOj+7/0Q/yb/RP9P/9L+9f7Y/8UAOgHrAKcARQGdANj+eP7P/7MBUgKeAVEAp/9YAHcAlv67/aX/4QCuAI3/zv7F/44AfADu/14AcgGIAQoBOQB4/z0AxgHgAGP/1v/5/tD+NAHCAfEAHwDS//UAHwEqAAgAVv9L/2kAhf+4/vX+Xf99AFwAKwCSAKf/LP9x/zP/wv+3/7L+I/8//43/sAHeATwApf4I/Y/+4wD8AEsBkQEgAU8A7/+jAP0AYADI/w0ABADZ/mX+KP+CABwBlQAjAO//IABZABoAlAAJASkAgP+a/34AsgDO/zQAvwAa/539hf8SAXIAIgD3/zQAOwDg/1oAKAE4AGz+3/7M/2D/oP8QANr/aAAGAEf+af/PAU0Bxv4c/Nn8Sv9p/+j+FP9GALoAFP99/T3+TwBgAcYBowBo/3UAPwESAe8ArACMAIQAlADdAPwA2QBLAdoB5QDB/7//HgABAawAlP8QAMUA1gACAP7+IP+I//3/4v8p/4H/TACGAAYABgDWABsBVQHVAJoAFgHYAEcAwP/Z/9H/uf+C/xH/Rf/D/6f/zP6k/fb8gP2p/kb/uf+oANcAcgA2ACsAiQAFABj/UP+l/07/Sf8wAEUB6QBz/63+vv6R/y4Aqv+v/5cAmwCu/xj/dwA8AggCGQG3/yz/k/9+/wYAAQFFAUYBRQF3/4r+lf9T/7r+XP56//cAdgDO/+X/1QDEAPD/wf9RAAcBLQDv/58AsgHpAtABoAAdAZQBaAAc/57/s/9a/7T/1ABGAf7/7v/p/+X/wP8E/iMAJAHZ/UL90/76/38AqgFpAa4A/ABd/+f+8v5//3EBMQAe//b+Rf4+/jz+N//V/y0Aq/+Q/yYBegGvAToBRgAVACsAlgCR/3r/jQCQ/wj/8f4a/zv/8P1Y/rv+xf0y/Rf9Jv8qALr/BwGvAcQBfQG3AE4B/QFpAQoBZQCP/3UA4ABR/yL/JAASAGwAMABpABcBuf9X/9//CgHVAS4Ayv+SAP8A4//Z/TX+QwBqASwAAwAIAWoBcwExADsAZwDh/yYAPgDEAVoCzwBkAN7/7v4X/7r+i/5dALYAHv9h/8YAkAAz/zT/t/9Q/77/n/+T//0AywDG/83/6v/U//X/d/+//6EAgf9a/jT/gAC1AJMAXwADAZwB0wDc/wX/uv9rAFT/0P6n/54APQFtAe//nf8AAcL/8v1z/iX/wf4S/8j/JwD8AI8AQv8pADkC6AEpANP/tf8F/0D+Hf5a/5YAiQCm/2f+Tv2L/eb9s/7FAPABMAL/AEf+Zf3b/t7/zv9hAHMBfwFBAE7/5v5e/8IADAGhABYAGP9z/Sn99f7BACQCMAIwAfv/Ov9h/9X/KAG1AsYCpwHsAFQBcQHXALcASQBVAGYAH/4o/KD8xv6SAF4Apv9XALMBwgB3/rz9Nf+LANf/yP9tAQ8DXgL0/6n+Nv5L/qD+P/+gAJUBDQFXAP4AKAF1ABoApwAPAXYAqf+b/iH/VQBTAKoASgGeAXYBQgGNAPX+lf7p/rz+Ev/P/7QAFAH9ACYB5wDa/4X+h/5w/1UA7gCUACoBXAIeAqoAaP8e///+g/4x/V79/v8sAmkCsgCd/uf+2f8R/n39LQBqAXsAEwDN/r79X/8uACsAlwBHAB0ACAD2/yAAPgB2ANgA0QCp/8H/jQAkAAgAhP+6/jv/PwHlAVMAMgCRANj/wf9O/yn+4f6KADgAkf9UAN8ASgDB/53/uf8FAEn/Cv8IAFwB3gH7ADoABgAFAHT/Pf+J/8b/aP93/pP+6/7B/5MAtgDLAO7/7P6l/r7+I//W/xgA+v8QANb/u/+3/6D/4/+W/8H+jP6P/4QA9wCPATEBZgALAGr/7v8eAdQA9QDwAXEBNAAqALL/Tf8+AJwAogDDANT/Tf/0APkBgwGFABYAuwAxAMf+o/6W/2UA8QDMAJIAyADV/2v+ev9EAcwAAgCP/4//pv/O/1cBtgGQATUBtv+H/yb/Pv6S/oX/QgASADIAvACJAGf/df06/s0A8wBFABwAlP9A/yL/Dv5//sgA+wBO/+P+Rf/T/l3/+v/z/y0AYgAPARUB+wBlANj+Av/Q/73/6//IAA8BQwAw/8z+tv8AALf/uf9Z/8z+L/5u/hgAaAEbAVMAv/+E/2X/Of///3gBGwK4ATUBewAeAFoArwCzAOP/jP/1/3X/f/71/swApwEJAY8AggAXAAT/8/57/x0AEwHyAKcAuQA/AOj/aQAmAJT+6f15/gf/gv+Z/9D/MAF5AV7/B/7//poApQCA/2QArAItA0cBZv92/wcAKAAy/2/+FP+//9D/if/s/3kAJwBN/zL/lP8QADMATv/h/vn+sv+cAMAA1gCxALEAwQD2/0X/V/+K/6n/fgD3AYMCLgKnAboAM//S/Wb+df+Q/zr/gv8IAcABqQE7AMf/CQKIAZT+p/05/qr+AAD6ABcArQBgARgAOv82//X/JQDZ/xMAT/+R/5QB3QFFAOv/WwBU/33+8/6d/1cA2gFcAj0BmAC8/5j++f3u/eL+ev/E/6IAVgFfAO/+6/6H/sz+Zv+2/ob/PQEfAbD/uf9+AF8AKgCA//P/JAEAAf7/lv9KAHMAnP/R//UA4AAjAOz/kP8H/53+Yf7E/n7/iwBuAGz/rP8tAGcANACEAJEB6ABl/0T/8/+lABwBPgH6AG8ASP9g/jb+1/0B/wcBGwJPAiUB7f8lAIMAJQBdABgBEQH+/wr/Uv4m/lb/MAC9/y3/9/4V/5L/qv+H//T/0ABNARcBDAEgAYkAm/+9/hn+af7S/3IAjQD1AKUAPAA3AHkA5gDoAD0Amv5v/Wj+sP/KAMIB3wFkAqQBJ/9t/lz/EABcAFIA/f8YAGsA2P9S/yMAOgEqAZf/ev5A/9T/MwCrADYAZQD7AIUA1wBnAb0AZP8w/lH+j/8GAGP/pf/l/8z/5v9Q/8v/awAp/9n+HAAYARYB9v80/3b/Lv/2/ikAgwDAAFQB2AC+AIQAmP+B/qD+JQC8AAYA9f4x/0wB2wGtACIA3f9FAGMA1v4C/nr+g/5Y/9D/W/8nAOoArQA7AKv//f8uAfQA2v/Z/+gA9QHkAfcA0wAbAPL+tf5p/jL/TABvAJwAxQAtAIb/p/9jAM4AOgDm/hb/fgC+AMUAkQAfAFUAVABH/6T+f/5I/mb+NP7t/jcAYQBgAMoAyAC4/2X/jAA/AYQAywCmAa8AjQAMAQIB9wBCAEr/Uv47/bX8Fv40APAAJgEKAfj/y/8jAPT+3/4GAPL/r/9d/y//BACdAEYAMgBQAJkA2AD//3EA2AC0/2kApwAj/+n+gv+jAJgBmQCd/9z/NwGDAjABhP/x/8H/7f+/AEMAuQBSALr/GgDY/7sAOwEvAJL/4f/d/3D/3/6i/p3/8wC1AA7/Bv54/mr/qP8ZAGkACwB0/+/+O/7G/uQAcwFyAU0AJv97/2D+2f0O/tL+vwCPATkB/f/2/5EAmgCMANv+jP4V/1D/uP9//2wAQgHeAML/V/4f/l3/q/+I/xgBWwMEBHsCJQDY/kj/E/+o/pz/ngCFAbcBtADK/yQA/gCSAGL/af8WAWIB1f+M/5oAngHRAKr/FQDXAKoALf8h/qf+HADVAFgAFAAiAY8C8wEcARwBi/9+/2sAA/+1/Tn+W/9HAaICZAB9/mz/F/+I/fn+qgCoAH8ADgBKADcAKP9H/pH/LQHBAHX/c/6C/6IA1v8TADgB/wAGAKz+Hf4c/6//rP6Y/oUAAAJRAbP+Zf0Z/2ABYAHa/7f+Bf+AAFYA2P95AJgAuP/r/lH/9/4//g7+dP62/60A0gGRAWcAuwAfAdkAwP/p/qL/HgBs/zH/iwCpAR4BH/+Y/pj/U/8//0r/cv8EAN8AiwHKAb4BAgF9AOj/c//6/if+O/74/zsBawDP/ysBDAILAab/g/+4AAgBvAC8AA4CkwPBAgcBWQA/AJ7/ov5//u//5wA/AGD/9P6Y/97/N/70/Vb/7v/6/1L/t/6S/x0AR/9IAJoBqwBq/0X+CP4H/woAEQDW/4IAdAAeAFQAbwAPAfcAmf/T/hH/Jv9L/8H/VwB/AP7/RQAtAdEA3P9CAPr/HP8z/9P+u/9tASEBqACYAV8Bpf88/xL/Fv+Y/wcArAAxADX/Ff9yAHEABf+r/+//r//c/9v/9v9//w0AhwBDANf/Nv/W/y8Aav8K/4UAeQFWAPP/zv+9/+z/Tf5n/tYAPAFZAAoA7QClAbwA0/8VAHgAmwCsAAUAMQBcAPb/tACuADMA+v/z/t79fv1c/TX+7AAhAvEATgBUABIAbv8F/9L+eP86AHz/r/9bAVsCYwIiAs8BtAByADEBBgCK/vP+mgBSAcoAyQDjALwAyf+H/hL+2/4/APYAOQEdAdEA3P/H/T/8V/1O/yz/t/7B/40AbgAgAHT/a/8iAIr/YP+xAPoA6P/3/hT/jgDUAZ8BhgFOAQEB0wA7/2n+T//3/63/JP/7/oL/sgDi/5D+tv5s/0wAoACHAJb/Zf8aAKb/jf/F/7j/TwBiACoAOgAYAJkAbwEZASYAgf+wAAoCkgFwANP/V/9F/if+Gf+EACcBcQG9APX/gwCs/83+f/5G/oH/DAB9/6T/qv9rAD8BRgC3/+D+1/4VAQ4AI/7L/oAA+wHpAGcAEwHx//T+9f9SAOn/+wDWATECHgK7AXwC4AHB/0v+Gf13/aL/wwBhAPcAOAGr/+X+SP6c/pz/7/49/3oA7AD8ALkByQJOAk8AR//K/8b+df31/c7+2QAdAkkBuwDRAJIAAf+K/Zn9Zv8TAS4BaQCX/1z/YP4a/hP/yf6j/mX++v2H/vb+tv+JAOEAeAE8AW7/s/1J/Y3+AgACALAA1gErAvIBvQCCAP0AcADf/+7/xgAZAYAADwHdAWEB2P+//yIA2v4e/s/96v6sAOQADgDI/7oATgC0/xsADQCp/zH/zv+9AEEAPgDeAW0CAQIVAZv/6f8AAAr/WP/y/9IALwEA/7n9af5N/zcAs//L/1EArP8V/wb/rP/0AAUCSgKGAdz/Qf97/4D/L/9M/7wAKQE4//394P7+/6f/r/5b/6gAyAAWACYAhADYAMYB3AFjAOz+p/66/q3+/P4i/7T/hwAnAL7/KP9S/87/bP/r/0cAAwDh/9L/iQDLAe8BaQEQAfUA7QDH/5f+4v4nAJ8B5wICA1YBn/+V/jb+aP7a/jAANgHMAXgBpv9+/r3+tP8HAOH/9f9x/5/+p/6G//b/OQDUACMBOAHqADcAK/9l/vj+EwCNAJoAkQCeABkB3wDc/pT9yP1f/Un9cP74/38B4QJhAp4A2v+X/4v/6P9nAKoAWwFXAUYA+f9BAG4AYADJ/8H+s/4//3AAxABHADsBQAF7AND/p/8IAMn/IgD0AOMAK/+T/j8AwACB/6L+H/9n/43+gf0F/sr/OQBKAO0A6QCeAMUAGQHAABkArABeAU4AQgCQATcC/QGNAKj/FgC7/9b+dP7A/Rz+5f5c/ywAXQB+/yz+3/09/k/9wvz//cT+XP9dAKABiwJ+AqEAJP/J/8n/iP/H/8L/FgBQAEv/Af+F/6r/dQBgABP/l/4s/9v/jwB7ATICGQKnAWQBAABF/1wA2gCtAG4A2gBpAeD/ef7m/q7/qwBLACH/L/83/1L////DAMYBiQI3AqEBEQJyAYr/d/+HAOIBIgPCAqUBaACJ/6D/bP9x/sr+xf+G/2P/MP+T/5MA//8v/z8AGwC0/WD9LP/jALgB+v9K/nb/FQEwAaT/zf6RAAsCWgFDAIP/Tv/e/zoAvf9o/3//df8T/+X9IP1c/vH/7f9M/2L/vP/s/w4A5/8oACAAVwCsAOP/oP9B/2b/igD8ANgAaQAh/zz+e//XAI0Atv+j/zkAKwDN/9z/qf/s/+QA5wALAFsAEAHo/Mv3D/yLAsABpv/x/93/zQCIAvsCTgNYAlb/Iv1c/jEBYgKsAZUBaAM2AxYBUv9n/qb/IQCO/jb+i/80/CT1DPd/AGQFTgZkBgsEtf7C+ST5cPwiAl8F/QMaAlECEwT/BGwFKQa8BI4A0/t7+tf99QCaALb+of3L/Ur9Lv0x/1gBHwKSAF3+4vzE/Bb+o//pAM8AiwAxAAkA3AC1AG//xf79/7wBtwGAADr/Jf+x/3H+If7N/8gAzwHrAZsACADZ/9H/BQCY/8T/SgBx/y3+e/40/0UASAJrAUP/ef4l/nD+Vf8d/yL+jf6iANYDLQMg/Sv7LgF8BtoHkQauBEcE9wMyA14C/QBOACYClwJBALX9Xvwm/Xb+ef1H/Fv86foD+VT40PiM+QX4j/RY8w7z6/Pv92n7Xv9xA5MFFgdaCGYHoQWvBY8GEAheCLkGuwVIBckEbARjArf/QP9a/7L/DgHuAR4DygNuA7MCpwFzAhwF9AR1Au0CrgRnBj8IGAgZBy4IlwqeCqIIxQh7CqgET/Uy5fTXlMvrw3PGfNGx4V/0oQMGC5INVg+pD/EN7g3/D2ASyRStFh0ZNB2eIGQgdhwEFvEMcAC984Ho2t9n3IzbqNwG4irrG/SS99L4W/ub+5/6JvkJ+Tv/NwlmEdoWXxu1HfgdLBz6FloPNgizA+r/Nv2j/EX9Xf1+/Vf93/mX99z46PrU+w38Qf4ZA1gJCg+GEykWFRhwGp8bkRq+EokADup+1Oi/+rAhrqK5tM9+5o/44QQHCTcG9gHa/j4AnwjcFGkihC3kM1M3SjdBMagmCRtID58FUv2d8STld9wM2IjVINSb1tjc++Jx53jq+Osk7yL1WvvQAgkOjRrEI0soAihDJIIfOBp2FGYNHgYYAeT9Hfsb+br2ZfN58ufxI/D98YL28frMACwFAQiwDNgQ+xRsGCwaNx3rIOgkAyirIK4Kge3IzFuue5vfmLCopMVc5LT9AwxqDS0Hzvyb9FX3TAU/GZAuiD8kSb9KXkLMM5IkPxX7B+b9v/SW64Xh0tdU0I/Lf8nVzFXVftz44tro2+xc8gn65AQxE4IfIye3LIEuciu7JasdHBadEAsLpwVQAVf9WfkO9SLw5OzR6zDr/eyE8rb61AKyB4gK/wxyDr4OdxAfFqEcVSG+Jegrbi0PHM/5M9bxtcabjI/llimzONiw+NMOwhReDGL/dPUo8z/9RBTeMWlMIltGXOtR1j1eJk4R6P4481bxhPAC6v/fUdQdyiLCFL3Jv8zIEdXu4UPsNvVM/l4I8BFGGt0ijSp9L6wvnisCJpweTxY4DkEHLQK4/Af4K/RZ70fsCeze7W3yrPeU/NMBIgaJCe8LngzHDb0SJhmgHmkjXyfhLMsuYx5p+2nU7bA/lECHAo+YqnnU2vnmDsoTwAl9+m/tVOg59WwTRjcRVoZn2WdBWQY+Dx8SCBj6MfV6+G774vdF633Xv8NPtDqrFq4RvYLQ7eSX9W0A+QhsDgoSoxYyHQsnKTAgNcw4zTiFMMIhIRBl/h7v1uSi4Hfj0ezR9iD8b/0i/Ov56Pf0+MT+1wSVDKMTaRfMG6ggWST1JLojgSFmIwIl+ROt8U3Lpqk2ihyCrpYAr9LXyf8oFGMXswdc9dLnQ+g4/34lOkssaXl17mXZTFIsVQlT9irvs/KJ/VsFOP4n64vQULRzo6adq6b4vlbcIvZaB5sPihKzEDMQyhNEGV0mszRLPZVAqTzyLgwYJ/586Hfc0dl73lDqMvn3BJ8HcADr9a/tSev+7+X5rQb4FN0fQySNJNQi4h7nHD0flSRcKxAftPyh1YeseIgAgMmQcarA06/9cxR1GV4LePQb4zPkQPuAJZJOVG41etpk2Uz+LtUGwPCf7BrzrADmDBMJrfM60iWvkJkxlEmh4L394S4CwRNFGEAVUA2dB1wJABPgJZI4WkPQRas9PistEij5I+b73M7eDOkY9+8DQAr4BkD8p/Fx67rnQ+zr+TYJMxiAIw0n1CR3IHgbEBkyHSQotCxHFyDvEce7np+AEIQjmT+3mOaGCtIaOBmUA9zqd94O524H9zUCXT13YXJPVy9BMBv/9X3p5O1+/C4NhBSDCGjqssGEm6uHM5Q+rDzKp/PHEYEdGhoTD/UCcP1XA0oUqyscQKFLCUtUPCoiawQc6hrZndSz3SvxHwUeEFoRNwmZ+KXoBOBk4RzuzQJjF98mVC8RLmYnVx/NF60Wsh5WKnckjAQz3OGzSYwAgMOSPqrV0k4BKxj2GiUJ2+4e3TTe7vb1JvxUenXLfLxiUEteKXn9V+mg6Wn1YgbSFlUU//gRz62lmImWjDWlG7th35YFxxrHHl4U4AiCAGsBfQ2GIwI850vATlZCdCd/Bkjp7dQ+0A3adezQAfoPShH7Brf3Setc5Lfk0e99A7kXLyaiKy4pBCSDHngaKxvnInEwsCwrCkHeGrLGigCAPI48pCDJT/svFPkVywXb62LX0NKE7Csg81i/e/9/BGk5UEE0lwQp6Q3rr/jkCbkYLBlUAsnajqvAhviGSKKvtjrT8/usFR4eXRkoDN4AAP8pCJoemzjESFtOiEa3Mh0ZLf7t6AfgG+SW7Zz4WAMXB7cByfOz5jjicuRs7iT+kA8OIKAqkisJKOAkxiImJDMtlSviC5DixbuHlZGAyYbqnyDKg/NSCAYM6f4h6fzZE9pC7vwbUE5dcf9/Lm1JVA054A2y9Zz2QwIcEdocUhnCAWfaXqwli6SFHZlYsknVXft7EdMUHQmk+5L1JvtRCncjHkHHUx5U10HxJH0GR+4n4zflZvQrCBEULxWDC9769+Z+2VDaw+XO9+EJ4RnVJSwmrh2xFH8S/hgxIzo1xzxGHhjvl74mkACAMIk+n3bFqvg8EikTHwMK53XRvM0H4sESmE/Cdv9/13FWWNQ6nwvL7gbxOgHqFGAkuCG2CunkV7GzhkmCaptisurShPr0EuYX8Qi99Prove3fAu4j9UbjXlZiak1oKjcDoOHq0vTXTO1rCWwcRCIuGqoD+OgQ1iXRlNql8TgP8yN5LsAuEyMUFVQMfw16GhYwNjvAIof3O8lclgCAwYTRl+e9GfE+EM8WcwiP6a3QxMnh24ILgUdvc/9/kXHbVoU/pRRN8z3z9ACVE5oiUyNrDeDjHa/lhQCA15WqrVvOkvqPF4kZvwdw8pzhH+Bi8FYShj0zXH9opF/3QgUcz/fT4BTbC+Z1+toPUB0IHWcNv/GY2n7Pf9CB4VP7VhfdLaU5/TnYMA0nYSJgJ4slwgie4pDCtKFzjL2OCaiR0/P1hQIPAif0ottUy13QiOsIHcxPoW5ce/Fx3lf2M2wOYP1dAx4SSyKOLSQlvAeI29eq0YZmgIaUdK5V0fv1ig66Et0AxewH4O7g+vOdFiw9LlhwYeNWSTq1Fzn5r+YS6Pn2sgriGCkcDhMZ/bPk9tOu0k3fVvL9CMAcByhAKnckcRyVG+4kKzA/JuYCC98Tu++VQYTWjdexF+E3/g4FyAAN8CvYWsur0abx/yc0VsdvVXhnbZhRjyfgBOD9Mgt1Hd4s4TOLJokD0NAjn12C4YMVmcO1N95JAcoPFglk8kXe1tnY4v746CDVSo5kQGbuT48tsQje6RfezukyA3YchClsJTATv/U819jGMcqL4AAAAhsNLZAzvS0xH14TeBUqJNAsghn7+FnZ9bB+kFaIy5pHxwfvLv+kAhv5tOFRyuXCKtbfBfg722BBddp2DGHQOkoR8fxcBJAUSieuOC46gyV3+4vF15oaiU2MbqJdx8bssgRnB9L5S+a91VHSeN9i/3kqWk2HYWFhvUpJJkH/IOZ/4MHtJQenHQ8tIy28F+z14dQbw1PH1tud+nYb8TL/OlQywyGQFqkZCCH1E0T50OPFxwqn/pVWnb+9weOD+P79qvjS5BbOFcQpzh/0wCmqUn1psXHTZU5Hex5wAEX/dA/SIxY5IkJ0ND4QOtxSq5+TRZTxpMjEkuiyAocJb/m138nO3svL1qrzlRz3P7tRqU6YOYMau/wS6B7lv/dlEtknBjM5MQcgBwRX6dbYCdnL57T6Bw02HXckkx/ZFkkUUxuaKJgm4gkP61jMYKU2jBSOU6243Dr90gfJBoj3IdxRxurBJdzkEQNEomOccPZpEVTLLrAHDPqPBaca4DCJPkk52R5J87TAc56PlgKg1Lp830H/bxAHCO3sp9EEwj7Cv9Fv9Von3k+JYtlaezyqFrfxfdlx2QXxlhIELk07VDSQHM74+NTAxqXRl+qUCdonTzutO5QrzhfVDNkQ+RDM/AvpMdl1wFGroqRPtLTVBeyz8ATxherh2l3ONs/35RISlTxUVaxffVxETIwtjw1LBhMS/CLPM1A8jjddIHn2ksYRp+6hRawIwnLhpP65Dl4Hp+4F2OnMdc2M14vy1Br0NotA1jqEJQ8N8fVB5eXpZAB/GGYpaTCDKlwYl/+q54bcCuQq9twKah+bL2oxFiT0FdwNCBSwILoTCPes4DzDE6Nqky6cjcDY6bz8Vv5x9xLlUc7EwaTKSvIbKcZRAmiQa9tcM0DlFpL6cv8rE4YpokCJR102mhE53VitKZiwm9ywSdRe91MOpBKaAMflXNLIyBjKHd5FA1wqfkTcSzRAXiZ7BtHoQ9jg3S/4xRa+LWc2BSt9D+ntXNXEz7XcFPdJFxozWEJCQAwwAB0RE1IRuwSf7VDdlM1iuKerJa9VxlHkTvBr7rro3N3U0NzHFM/c8PAeOkGwU9lZKlQZQPIeqwcYCssZ+SzNPO8/FTWFF07pKr5UqOGp8LjR0SjvwwQ7ClH8Duem13nRD9bQ5V8D/CSuOQdAhDhtJDgKdu/g4JPnD/1GFOEkLSs8I80NovHk2THTg95Q9KEO0idtOZc7XzGrJXwfAxxECaXs59pnylm40bBet+TQGe2Q9EXtYOLz1YTKeMTHzJTt9BxGP7BNCVH9Svo4hxnLAXEGQBqzLlw+lkDNNDEaee1HwGOqAK/0wg/dv/ilDgIT+P7C327LY8jE0J3jlARWK3JG6kqpODwc2QBs6azcE+M8+8sXmSm6KxchfQoi7FTSX8rV2TH3sxLZJ6c1rjQkJ2IathfoHAMW5P2y6MPWCsNktke3QMy46qL5VPcK7cPcec6Hx/nMeem6FAw3Q0YsSLNBeDEuF5QCgQYSG88wyz/SQGczlBgw73bDLKx5rp7DR+JC/CUOOBMuAyLnyM0kwx/MCd/V+6MhaD6mSn1DMSpPDKbw/t033/LzSBBAJlQuqCZTENrw1tPSxdrNZOhqBjIffjGqNGIobxg3DuYSUhksCzL3Pull1H+/27XuvvrcCvVv+LP0uuu02ofLSMWH0qn7xik+Q9BKN0frOn8k1wbM+ugJmSGSN4REDUHYLikKPtnKtKmp07OFyx7o4wD7DhYNLvmx3lHOJ8zW1Lfp0QvSLpZDakaAOeoi+wh48Nvkke6YBbAbjyh6KPcbmgQg5gzOkcrM26v1Rw7LIist6iYuGIILjwiGFZ8eTxCN/GDrQdEbuTCwnLyN3X35mwFoADz2EeFNzCTEpNKq+BEjzz5XTAxOxUCMI0kD3PkbCIAdOTTGQiJAWCq8AS7S7LGbq9+2Ec5P7DAFXQ8DBbzrUNNexu3GVNSV8f0ZFDqSR6pFnDTKGZD/wutQ6E35kRIXJ/0vBSsxF4f5/twjy1LMvN2C9FQNXiK6KHsg3hEZBhAFiRGIH8kaiwd880bXu7cCqCavJc3n7lwAfQYWA2rwRtiuyDLKpuVXEtE3v01kVllQlTpUGIT/0gB1D2Ik0jk1PoMwahTn6b7AKawErE28LNpu9mwHXQei8/fZlMYuwNLJpuTTD1Y4N03oTlI+6SEnBWnwvO0G/zUZ4y4lNwUwpRrY+kLcnMzpzyngF/dxDVcbzR4rF6sIzP4eANkLyiBTMGckXwgB6zXDZaLgnHWuTdQE+ZgKVQ9JBOfp4c/4weTIhOpoGkBDgVvPYOlUWzgdEST7IP/4DsMphUBRQXUwHw++39SzOZ5qo+y6B9ta+L0IQQbT7lTOFrh3t8zM//HOH/NFV1Q9SOIoDgQa6qPlovLPDL8tukJaQlUubAwz6z7XOtGh1u/ptQMWFV4bzxYcCMT61PcW/M8K7CNePW5I9C2x+8nNaqOEiMOLF6sh4NEPvSQlHbX+GNaFtC60xMd68qs2OmUGebR0fVeGLVYCWesA968VmzgMTx5INzMICUvO/Z+UixKXVbcv3TP8oApEAevjusW4tTy769fX/6MkAT9FSOI9wyjIEq4FJgVxDJganykuMC8s6R+EDfP3k+aO3UnbU+QZ8+P+kAl1DrAL4QUGBNUIshKDH2csZzP3IBv4Q9FksH2dYqH7tvXcHgBzCm8Byeyj037EtsZ62Dn+FzIxWPRlqF9SS5ExxxOcAyAO9SPvOjpHZj7LJMP9+s96qPiXdKAguNDW4Ozp9FfxDd/GyNW+fcZW3I35zxvpOXJIZEVkNWsiKRNfC+wLqhXZJSEwTi4QIcUL5vYW5XrY2NVS3wzyZgEGCoMPag5TCrEHcgYyCQwRtx0JKrUkSwju52jKH7D6opumSL8W5IP80AIk/lHvbt6j1FfUsukhFXY+OViNYk9cAkuCMc4WdwuDElMjjjILONcrSw4C6D+8Ppu1k/Khw74s3ePxRPkN8afeD84hycHSpOp0DMksVkAzQ0s62Ci6FlsMKglHEREgGioTLTkn9BnFBtLyBeaT3n3fYeiU8m8AqwuCDskM3wg4BgcE0gUxD4Ya0CkeLsQSIuwDydanOJYhmdaysOCrB+IULw2K92nc7skTx+DazgxRR/drNneua/NPuixlBhf0QwEWHsI5qEKKMzsSCeTasleO+YXOmDK7K+CU9zMAxPp05PDMhMLFyoLjBQZGLDBJeVY1Utc8XCERCsP9wACmEDol/jMNNaomrwon65bTeckf0q3nhf8xE24bsRYeCIL3Oe/d8W7+khFqJL80aTuEJ/z7DNG4rzqbQJuQrUDTQv6qEsMPJv6840XPaspk1137pjAwXK5tSWnZVHE3Kxc1/9z80AyoIU4wES4jGMr1T82CqMGTu5QnrEzODuj/9Xz5yO8L3tLP5s+d4CD9SB1EOA5ITktOQlswgh4fEucM4g8GGBQggSIqHb0RPAFC72vhodtO3y/qxveSA80MphCuClYAofjo9uL8AAjgFsspKzp4MekJEN1ktn6bzZVSpTjOzABlHU0ekAy/7wfVK8lE0FHx8ym5WtBvYW7MVhYxXwiX6XfoJP/MGnwwVTOvIB/+5c1FoFSMSZWpsBjUP/P3BhIMRfuH3ivLHsop3Mj6/B3UQfNaMFqKQQAg5gIr9HP00gH4HAo3Xz/cNZ0cO/wE4sPRns9T3s/1owiGEBUPIAR/9JXo5uRF7nEDshgqKJoxPjJuLLcYLPEOznW7S68WsevD/uAYAtYR0wvd/KvnPdbL0+Pg3/1iJ8tK51dTUXI6TRu3AX3yYPU8CdcdsCwqLS8XQfRxzxSwQKHBqejBFOC9+fUDhwB+8abc5dCk06nmggWwI+o5CUODPlIvwhs0DewHKg45G3clsSsKK1QgJBCK+53m+tma1zXdbOhE9Tn/UwU4BFf7yvGM7mDzof8zEYsgpisMMzo01i3/FDHu5tCGvQC3EsL81Tj0Eg1HDpP/Sejyz6LECcz14X0GsjLCTJVLOznPHccGiPgm9skHECNvOp1BKS9eDfrmFsLjqSannLtn3Ef5tAc/BWz3ht+Dx2bBNNCp7ucRUTHPRmlLMj+HJh0PEwXABXoPeh/LLeEyryeCEXv4c+JT1QDRotcF5tv0BQAOA5X+j/W67pju1PMyAoUUJCOhLoQzkTLBMEko8w6I7/7XXsTtuV2+qM9J6/3+a/8M8+HeKcuqwcPGndvoAEUqzEOvSthBbTCtHRYJi/8XCysfeDDxNrUqcxLw8rnNhLJ3rOy6/tb376n82QBA+Uzmh9RBzpfb4PZWE7gtIT+yQu05qybzEvkHtgbFDFYWYiA4I9EZFQlA9S7jx9m82k/l+/Ne/gACXQCp+wv2V/ND91UEdxfSKAAzRTNBLhEmDh0XF2sGJey62aPL2sFZwC/FndZd6DHpO+Ci05rJwcxO2mPuAg6oMRNFs0OtNRglsRpgEkUPBBvBKZcxnjF1IsEH5eog0MG9tLkWxQzal+yi9JD1ZvHP5Y7Z09ao4Sf3OxDTJws44Ty2Ngglow1W/Hz26/jGAU8Q/RzBIaUalQdY87TkPN2W4WHvcADqDzoWBBL2B6n94PhM+oMAUg2ZHE8lWybjImcc4BYoFd0LnfNR2yjJl7gksm65F8yS5qH1l/Mw64femtUS2GHksPy6IAU+QEVkPoEwgyGCFgUO1RIrJa0zjzeGLP4TwPZc2LbBYbwQyDHcm+119zD3q+7J4OHRK8/p2S/tTAZ8HMEqaC7xJ1ocAxDNB8gGlAuwEuwaACGVHh8WLAy+/5Lzmu2T7QfxA/fx+xz/ywD8AFb+DPty/H3+KwQoDVYRdxW9GZ0cciDDIo0cGAVm5qfPUr4vtey4hsn+5Kr47Pff6kLdGdSN0vrbgO/9EF40HkNUQDk1BSn/H6AWyxSjII8vgjaIL7oalQBz6CHUTMiwycnUMOPJ7EzqVOKw2hDSkNBE26zuWgYlHOkoLStvJvobuA4RBq0FyAsXF8QhLydWJiUcOgt6+unux+oi7oP2jwCaCLcHBv6I85frVeku75n5NAjlF5AeSRxIFjYQXA5oDw4WlRygEVf7GeMYyFuzwKwsuN/TK/Fe/nX6E+6w3fzRaNPy47wFui/oTGVTUkhcNMcd7wr2AooNxST1NVs5hirPC/roccdFsImty7262NzwfP3Q/jX08eGf0jXRgd8+9ycRciVMMpUzHCgCGJ4JlgVoC/4UBCK4KSomehvTDPr8svDG6trqz+/X9k77RPtm+cz2zPI58M7yEPl1ADAItA50FFYYCBk0GakYZxc/GWcTKPtS4hvResISvrLD19Us8Ob8Hfpi8OHjwdzH3vXpxgH6I/o9G0KvN+InDhrID/II+RD2Imkt7ivqG/QA2eaz0G/BjsK50xHp6/hb/8j6Ee7P34LUhtJD4X/7fxSnJpIwOy8RJHQVcAcA/vn9eARxDcMa+iWWJwEgGxC//ELr5N6n3nnrK/z4CUAOaAe0+qbrYOIT4uzqT/5TE1IhpSTTHlIVdQp4A8YFWA8vGgMXwAKR7rjZrMRavRXG69s38iv8qfzY9Dbnv92i3qrrMgJ1G9UtAjQqMN0jtxV8C4IFbgqYFT8cKR8xHPoPYPtC5QjWc9B81Trhae3O91r9n/om8HXk/d8G5ZzyHQT0FJ8jryhIIpsX7w2OB0wFvgnREaEZHB7HGakPLAE68L3l6+KY6FL1VACrBfgCSPmP7hbmjeVU8OwBxBMnIR8nfyO2GkQRygoVDPMTTx/MKZgnhA8T7YnOsba7ruK509HZ790CIQJn87vdas0By/rV/u96Fd00CECVOccojxY2CdUAPwenGxYsRzJKLSIbPgEU5mTSHc4G2AvqyfkHADX/Rve85gvXzdJd26PsZwChEPobhSHuHf0SigjJBGwH3wxKEd0TDBNeDXADf/f475Luk++m8Y71Uvrn/YD+BP4pAKcD7wVdB90JVg7cE4sWDhUeFBUUfBH2DcIMBQ43ETYXdhi4BrPontABv4q197ut0NvtLQNMBQX6rOQfz7fIUNIA6uwNqDDUQ9FCPDHRGYEH3P12A6QZczFQQC9AFy1PDjnty9PXy0bUn+ZI+2AGlgNN9evecMp8wpnKud0w9WYLFxlHG7UTlQdv/s779wCzDAoa7CQWKFghTRXcCNL+T/db9Dr5IAMYCzoKwQBq913xle2m7jr0v/5eCVsLxQfpAtb/xwFyB7MPIhgYHmggnR6pGCoI8+7Y2kXOSMpq0Frc9u3M+mD45esW2yzP/s+63Nfz8hFbLdU3PC98HlEPtAebB3ESXikqPVdD5DmXIHUCGOh51XDRI9ue7A/6Nvka73Hgg8+5wxrDxM/F5tT/zhHOGQ4a0hRRDhoKfApkEvQeAiriLyMs5R5YDjP9Ju926uLukPcOAOwEgQPR+2nw8+R74MDmm/I1/+kJvA+JESsQMw1lDD8PmhW9G/AevR/UHQAamhXBDy0Cg+xe3ErSIsnzyBDS09/y6zvvAOp632bYStzE6Ab6KhDUJfcuZClUHccSgQ8+EWsXxyUJMdUvzSMkDyv5J+b/2CPWF9zx58Ly5vTD7qnkANvc08zUr+Hk89oFIhSUG5gdxBmXEskOLA7LEMYV9RkxHEYYag4fAr71i+316eTqLvBr9fv4UPjv8nfvOO/l8GT3FAINDWUV+xmdGmQXGBSjEbUQKxW6GxMgZh+fGY0TDA/ECcD8NOmC2gXSJ8sNyTLRPeNO8gj0Q+3n4RHZZ9qi4j/yCwzbJbYxEi5BIlMWCg57Cn0PwBwbKvkuwygbGYoE3O8V34XXRdyv6Q/3fv4o/Qr1senN3tjaU+CI7cL8bgmBE1QYQhU6DaYEGQAzAd8E5Qk5D88QCwuV/xf0E+447SbvavXo/gUGUQfOBIMBdgB1AYADKgnFEUIZKRyXGbcTaw0hCNcDVgLtBFoIKwmjB30G9gabCMoH/vxa6o/awM+uybHO5N/t9P0BJgA58v7fM9Ou0xHifPkhFh4taDB9JFQUCgaZ/1AC9w2kIPAwgDShKd4UZP677FviEuN67cn7jwYcB1b9J+6E4O/X4dZi3yPtn/qTBQEL6AjbAQb86flE+nf+gwX5DXwV+hdQFXsOjwjRBV8DvwPgB4cN9BE4EdEKKQLO+sT37PhP/FECRAogDeUIrAO//I34tPoV/08GRA6WEqoSEBCWDooO0gY19vznBOCw21/d8OVN8db4UfWf6MjaO9K+1NPht/TJC9MfYCWVHIAO0QHq/b0EMxJ7JIQy6TQzKzkX5QHz8RrpLunz8cD9dgS8Afr2XekK3iPX8Nal3x7sM/Yc/bn/hP9E/yT/8ADtBXkM1RB5EucTChTpEaYOVwvtCRQJgAd/Bw0J9Ql6B5QBk/sS+PD22vbu+XT/6wM7BTMCXf3R+cj3+feZ/aUHDhGFFusW4BKoDjQPkhJMD0MCUPQM6s7hj90p4drrqPSu9QvvwOBu1UPVut247RQC8BREHZsXyws4Az4B7AT8Dx4gtSx5MNsooxfcBb/4f/Eb8fL2SQCPBQQCIPd46UzdaNWu1r7hpvD6/bMG5wkuB9AATfx8/BsC5wq+EngZ1hz6GXsSuwm6A93/hv5gAXIFPQgPCNYDIf0J9j7vU+sz7Yv0Zf1iA80GyQa6Al7+Nvzi/sQGAxCHGF0d5RwMGoUWixOQE98TlQsL+oboedy+1c/UvdsQ58LsIuiI3ArR1sw6073ic/VlCIgX/RlYEdoGUwINCMAToiLbMJc24DFQIgMOyv679s32zf7YBlsJhwYu/pXxxuQR3a/bXOHM7E323/s1/wwAfv5R+/P5dvua/ywGRwy1EEcUeRaHFBkPWgd3/4L7HPpn+zsAewVaCP4FlP/y+Xr1uvO4938AggoyEJ4PDAxNB8UCIwLsBUULyRKjGB8XmhJ4DmYKVwZJBAsGgwcOAWfwBN831AbPA88D1xvkVeuU6ffhxtca1ObcRe0p/1MR0B+dISQY9w7YC98P+BloJ14zejekMngjEQ4c/TTz7PC/9gQAkwRXAA33Tenh2QvQBs4o1n7lpPQ4/ZH+yfwY9wryhvI6+N8E5hHUGDobQRlzEz0KaAPnA20IsQ9BFWkYCRgZDz4BhvUm84f34vykAt0GsAcSBTj/x/d99eD5CwCZBjUL9QyjDdAMbQo5CMsIGwuQDDgMfQUW9mnmIN1H2rbcReWg8jL5fPMC6nzhVdvC3lntBQBOEK0aVxt7EOsCtv63A5MMjRoRKYks1yQEGK8I7vvk9oL6CwKuBpEGOgHD9QTpheFL397ijOwv9mH7KfwH+Sv0cPDa8B/3zgC5Ct4SShZiEdYIBgKj+7L6xgAXCGYOTBLxEv0MQQBd9q7z4PVW/cUG7gwlDscJmwAi9snxkfZ3AAUK4RC1FKsRDwolA879zfwWAwINohRuFoET+gzO/OHn+Nqm2oji4eo79FH8/fms7CDfpNev1jDhA/W3CEwWexnQEZAFbfuD+nQEHhGXHtYpACnjHBUOGgJX+kv4OP6oCFMOXgxKBXz6ee/96cnqJO7v84L5pfyt++b2yPNy8i/zXPji/vUC8gQfBlQGggMgAKgApgEGAWMBmAF3Aj0F/gXHBVoGfwUCBNYDGgXhBhYJ/AvpDI0Lhwo4CUIGOgS5BXgHtAYxBdMCtf7d+3f6IPos/KD/KAMoBAEChvtQ7oLiDuHs5jDuiPfhAf4Dzvus8N7pyOlg8ID9jwsPE4cRogmn/sn2cPcZ/vYHfBEyFoAUrQsg/3H3Dfhb/c8DbQk0DYoLRgT5/Cv4oPUS93X9/wTbCSwKjwVZ/qH3M/Qn9HD12PiZ/bb+evzW+uX4mfYN9WXzSfRT+YcATQfSC98N9wyBCZcGlgWZBo8KVw9gEpASORCZClkDgf4K/d/+mAGXA/YDegGH/Uj5rPYn9wf6zP2+AGgD+ANbAV7/oP+aAMD/vP6C/tb8BPt6+qD7e/wK+/r39vQf9Pj0sfWv9pT5t/6GAi0CNf+X/Dj9E/+OALUDtgcBDNoNFQqkBVkCN/4c/dn+uQGIBfoFNAPP/wL8+fhM9wf4Dvtl/a78Tfk0+AH6Z/q/+cL5G/w5//v/lP+h/g//bwHeAnkD+AO9BD8GWwfnB6wIXAkWCikKXwibBhUGSQXpBNsFzQVTBOoDygOcAh4B0v8dAIgBBwLdAAj/Vv5w/Tr8nvwX/eb8+fza/B38t/pQ+XH5VPr1+wf+Jv4g/lH+H/3Y+777pP6kAkkELQXcBNUCLABO/dT8O/8zAsADUAR4Ag/9gfde9Bz1pvee+sL+oAG6AFr8yPeZ9QD3kvri/voCSgXCBaQDewBJ/5z/WAG7BEwHmgfUBtYFYwMlAE3+9P0k/n//xgCAAO4ARQK6AhABiv+x/6z/3f+xAbgEfAf1CIgIqQf0BrMFKAUKBsoG7gXmAykCkQHCAPX+2v2f/dL8Uftb+T/4XPeP9uP3ivlP+5z9gP7S/U395v3g/aT98v3Z/hIBcwKoAQwAgv/C/6L//v5Z/0QBNwCx/Dr6bvia+B766/uu/o8BOgJbAG7+7/0m/w8BcwJPBAcG+AUOBY4DdgLFAdoAGgCT/xkAUACc/kT8J/vj+uH7Fv6s/ob+MP/X/4X/sP5iAHgE+AegCTkJjwfkBM0BvP8x/70AxASNCBsKjAnNBl0DKP/u+1T7Hfwh/5cDvgUQBEgAhfyj+aP3RPcF+cT8VQHhAzkDBwFP/07+sP1L/vT/ywFnAs0AN/82/or9A/0O/X7+Mf+S/vj8zvvv+qT4nffI+WT8N/0j/Vz9vf1D/b38A/1P/vMAaQLVAdEAEQDk/5v/aACqAooEswSSA+EByf/9/lL/ywDWAu8DVQSSBCkEbgEN/pv8Rf0AAK8DiwdcCUAHigK+/QH7efr1/IIBrgV/B40GWgMnAJX+avz5/GsBDQTKAwwBYv1R/P/7MvxG/7EDjgbJBVADfwHOAdMDIQXWBVwGcgacBCQAF/wW+wr8u/sy+ov5n/hM9hn02vPl9XD46PkQ+yf8lfzv+wP8N/4xAeoDHQSdAhcCegGm/+z+PgGnAyUDAwHBAIsAKP5i/RkAmAJoAgECkQGmACwA9P8hAH0BQwSJBXAEDQPCAv4BUQA0AJkAWgHlAkADDQKbAOQA0gENAZ0AEQGWAPT+jP1i/T/+6//WAMj/sv5D/68A1AA4AAYBqwIFBTsFgwJgAWMCLQQSBTAE+gLeAloCRf/6+8v7yv0H/jH9bf0E/Sn7+Pjn+EX6NPtq/HL+IACU/3b9xfvo+yf9hf29/Oj8nP6E/0b91/kY+T76T/ul/Pz+MwBC/rj70fot+yX84f4QA4QFqQWJBBYEcwW7Be4DFAOkBP8GLQgTCHcHBwdGBoIErgGG/l39xv4MAJQAawFrARD/PfwW+3f6vvzw/6v///7y/0gBEQFTAKgAQwJLBFYFzARDBOEERgU2BTMEWATjBW8GUAaVBegD2wCx/cT73Poh/Lr+8/8MABT/cPxD+hT7YPw3/JT77vpw/Ab9F/vb+aD6Nf05/nL9PPwW+sj33PY9+Df72v5pAQ4CPQDr/Oz6Lvmm+WX9HwEWBGsG5wYjA3T9IPyZ/v//0AGlBBMGyQUOBJsB+P9nAAAC3gLsA4MEVQMdAaz+Rv+yABkAC//k/iv/Df8n/6n/kgF6AvcAcP7N/Aj+uAAZA2kF4AhtCmUHKANDAZcB0AHKA8EHLwp9CsEHeQM3/yv8m/qY+kD+OAKNA48Cof/Y/IT6uvhE+dv7PP6M/9D/lf6Z/dz9Bf43/Vz8RfwL/Hj84vwt/V/+of7l/Tz9Bv0J/Sb9uv2G/rX+uP5i/nb9K/0j/RX97v2U/zkB2gLFA8cDYwJW/xr+wP6cAHMDXgTBBDUE5AEs/x78WvxQ/+UASgHWACgBXAGz/zX+Vf58ADQCJQJiAsYCTQLEAJ7//QB2AwMFIgUiA40A6/9vAaoDMwW1BV4EsQE9AKkAKwJpBBoFSQJW/ov7f/sT/tv/cv+s/UH8Efyr/Mb9o/6V/sb9A/3r/BH+WP9h/4P9Ifsd+3n8gP6kARADZgIxAIX8sfok/J3/VALiAfD+CvxU+lX7gv5NAaADlQL8/x//5/z2/AYA/gBJABX+w/yM/goBwAJrA6ECsgE/AIH+7v74/wYAFwBkAY0DaQUlBcEChQAO/xL+kf2B/5cD1AaGB0EFlAHF/oj9V/4sAY8DRAS9A40CPAExAF8A0gAqAHMAhQIyAxMCfwFKAJj9Xvsf/OgAZAQQA7f/1ft5+Sv64vxy/4v/nv1G+5z5dfkd+uL6iftC+z77b/2ZAEQDhQNyALT9if0f/7MBMwRSBSQEkQDW/Mn6bPup/kYAVP8k/10AkgF/AIz+1P17/kYAhwG3ApsE+QWtBUQEqALqAEYAYwJABBAEcgOcAgUDmwMKAYn9j/zf/v4BkwEW/wH+Xv4U/wT/1P4fAHwCfQSNBUoEMwFK/wT/fwH8BWoIrwdFBS4DngGa/zL+Rv5iAE0CaAGi/9X9U/z1+eP3Dvmn+l37yPqy+Dr3J/cM+N75LfxU/mEAPQEwAQABHf/R++36hf63AxEH9QY8A+r+6Pzu/JD90v0t/5oCkAQDAoH+cf0L/h//dP6h/lIA0/8R/5X/TwAIAYoAoP6w/V7/cQJcBEMDogBo/ln9Pv9qAssDNAMUAsQAKADXAAYCdwE+/37/PAIdBeIGBgZUA5wBoAIeBbMGfwZqBHADawTnBMUEbgNnAT//KP4BAFwBkf8X/HH5VPqd/dH+W/5o/Q38Cvug+R36F/zS/CP+tP+CAN8Amf+e/sj+k/98AVcCPQC9/Tv9rP0UABQCdQJxA1sCrv9b/Q37H/so/Qn/ugBUAMj/EgAx/iP8Ifsl+3P8//1N/xAA+P8C/1z95Pv4/DT/lgBCAXQB6ABs/xz+lv1H/14BugLDAx4DNQEk/23+H/9pALMBOAOaBL0EigMbAhEBwwBsAroDyQORBPcEvQNTAV//yP5A/z4AyQHTAhcCwQB2/p/8XvyU/MP9Nf9SAAEBJQH7AHL/Ff5n/sj+AABXAkkEiARTA9gBn/9e/Xb8TP2FABEE+gTLAx4BKv1P+3X9Tv/W/wcAdv/v/kD/fP9P/nr+3/9hAKP//P00/f/9k/6I/Zv8tv3f/g3/SP8y/63/UQAaAFn/j/95AIoA0ADRAN0ALQF3APb/MgCKALcAOP/l/Ur/HQEhAi8CKQLaAvkBIgC7/gf+oP7h/ov/vgH8A64EuwGt/Wr90/4G/47/SAC1AWkCiwAR/2b+s/5r/yT+V/7XAMsAqwDw/03+U/9F/yr/BwCM/+j/LgGSAsYDawLaALYA6/8lAIMAZADDAacCugH7/+z9FP0B/WX9Mv+HAPoAwADm/uH8MPwI/LP8Dv7X/nn/sAAyAbUAQQAqAFEBrgGlAIIA5gAIAfcAUQDI/3IAzQBWAK3/M/93/+D+e/6d/8gABALzAmICQgG4AHQAJAEmAXsA5QBjAfoBbgKgAhwCHwBR/rH9/P03ABACqQBF/uT8y/yh/oMA7AAlAMz+LP4//Qn9vv3g/rwAuACb/5P/xf9dAEsBVQBQ/ysASwE8ARsADQD5ALkB5gE4AaIA6v/D/r39i/1M/lX/SAD0AGoA1v0P/D38m/y8/ez+U/8u/4z+BP6o/UH+rQBHAwcEXQL4/8//tQDEALsAEwGmAWUDqgQeA9ABYQHl/5b/ngBlAbICcgMNA0UCggDi/r/+cf9JAJkAqwDWACkARv+Y/lT+A/86/8T+NP70/fv+/v+S/3T+af5z/6L//f62/l//PADK/wf/hP9LACIArP9eANAB1AGHAKH/Tv8tAIIB5QAtAJsA2wB8AGr/Nv6k/RL+Uv46/vX9xP0K/gj+m/1t/Yr9Qf6U/////f5y/jQAXAEQAcABMgOvBCwFRwOrADsAcgF3Am4CqgG7AfICMAMlAgoBmgCkABoBXwFFAAUAngAUAG7/Tv+m/7MA/wCS//P9uv22/ib/fP4w/iv/eQCOAM7/YP82/5v/Rf8G/rr95v4iANj/wP7G/rMAugGPAO79Kf2s/x8BAgHk/5z/uQG+AnsBl/9k/2IAJAAq/7D+ev+fAEcAeP4y/e79yv8CAe4AWwDE/0b/8v63/tz+SgDxAYABdgBU/yL/bQGtAqIBiQDCAIUB9gDz/xD/tf4v//3+Kv+Y/7//DQA8/wD/yP8wAKQAOQBv/7L/ewALALX+J/++AJsBFwJpAp4CTALGAQMB+v9x/5n+KP77/poAowG6AOL+6f15/n3+2P1S/nH/9wAgApoBpAA4AGL/bP4H/qH+JQAVAQQBbACC/03/4P4Z/qf+wf+xAMgArv95/oL9Qv2Y/ggASQEAAmwBQwEPAYEA2v9U/5T/OgCrAGUBpwGYALD/6f7I/lj/s//s/1gA4v+M/v/9AP7U/ggAYwCv/woA7gGKAtYAY/+1/5cAnwEzAVcAGwHVAcIBGwAv/sH+3//P/yEAcAEOA1kDjQHc/8H/5f8sAMMA7f92/iP+6/60/2UAlAF7Ap4BOf/9/Wj+i/4//0UArgCgARQCAQEt///+iQBuAGT/XP/C/1IAkQBTAAIA9//M/xX/sf6d/or++f5NABECAQOCAkIBEADA/hf+y/1P/hcAmgCq/83+3P7x/nf+8/04/hb/n/+Y/zIAyQD0/6n/Nf+n/hH/rf8/ABsAnv9j/+D+Jv/z/4gAeQFiAvMCsQKDAUcAwv9z/7T/rwDFADoAcwCeABYAzf+U/4v/ZwBlAJX/u/+h/yv/z/+8ACEBvwCc/9X+8v6+/wcAnP9jABYBnABoAAMASQBpAS8B4/8//+X+Sv8/AOYAeQFjAYwAW/9S/k/94f1aAJ8CeQO2AnQBmQBz/7T+7/9xAUECDgFC/pz9sP10/R7+cP/IAFwBBALtABn+S/2t/fn+qQC1AIwA0gCuAcUBSgC4/3oAcwBU/+H+oP/zAPcBZAKZAT8Av/9A/3j+Tv7a/ur/8wAKAaIAe//5/SP+A/+S/tb9s/7g//b/lf9f//f/fQDe/zP/sf/wACkBIgA0/1z/g/8K/wb/lf4X/jz+6f4rAHMABwAEAKP/nf+G/8H+9P6xADoCBAIbAUAA+v/6/1H/Mv/g/ycBXwLbATIBWQEKAeT/GP/3/kn/RQDpAKYB/AG/AGb/9v6K/gX/FwDr//r/RACb/1P/MQBCAaMBVwGoAO//bf/6/sb+L/+BAFEBAgERARcBcwDQ/0P/U//m/0QA6QCwAFEADwGVAeEBmAHdALUA5QADAeAAkADX/4//vf+d/8n//f+zAEUAP/6q/Q3+g/4B/0T/6v9uAJf/Xv6z/dL9DP+uAMUBLAGxAMIAZgD8AMcAov/f/4sAvQAUAE7/rf85AOUAuQE5Acj/dv/K/y4AZQDo/5n/if9e//H+X/7t/o8A+QCe/8D9YPw9/Cr9k/41AHwBBwJ2Aef/i/6y/r3/PQCsAAoB3AAfAZcBMgGZ/wD+rv4gAE0AMQDPAKUBPgFiABsACgANAQUBNABEAGcA8P+8/sH+A/9G/8j+Of7Z/+0B9AGBAIL/EP5v/ZT+e/4q/iYA8wG3AXr/6v0V/7YAtQD0/3j/iP8r/9b+igDTAccB4wGDAQ==\" type=\"audio/x-wav\" />\n",
       "                    Your browser does not support the audio element.\n",
       "                </audio>\n",
       "              "
      ],
      "text/plain": [
       "<IPython.lib.display.Audio object>"
      ]
     },
     "execution_count": 17,
     "metadata": {},
     "output_type": "execute_result"
    }
   ],
   "source": [
    "# 可以试听一下数据集中的音频文件\n",
    "Audio(f\"{train_dir}/002.wav\")"
   ]
  },
  {
   "cell_type": "code",
   "execution_count": 8,
   "id": "4aa6c0ab",
   "metadata": {
    "ExecuteTime": {
     "end_time": "2025-05-25T13:36:46.301492Z",
     "start_time": "2025-05-25T13:36:39.668746Z"
    }
   },
   "outputs": [
    {
     "name": "stdout",
     "output_type": "stream",
     "text": [
      "Batch 1:\n",
      "Features shape: torch.Size([16, 32, 13])\n",
      "Labels shape: torch.Size([16])\n",
      "Batch 2:\n",
      "Features shape: torch.Size([16, 32, 13])\n",
      "Labels shape: torch.Size([16])\n",
      "Batch 3:\n",
      "Features shape: torch.Size([16, 32, 13])\n",
      "Labels shape: torch.Size([16])\n"
     ]
    }
   ],
   "source": [
    "# 查看第一个 batch 的数据形状\n",
    "for i, (features, labels) in enumerate(train_loader):\n",
    "    print(f\"Batch {i+1}:\")\n",
    "    print(f\"Features shape: {features.shape}\")\n",
    "    print(f\"Labels shape: {labels.shape}\")\n",
    "    if i >= 2:\n",
    "        break"
   ]
  },
  {
   "cell_type": "code",
   "execution_count": 9,
   "id": "a0814da0",
   "metadata": {
    "ExecuteTime": {
     "end_time": "2025-05-25T13:36:50.743531Z",
     "start_time": "2025-05-25T13:36:50.736500Z"
    }
   },
   "outputs": [],
   "source": [
    "# 使用自定义的 RNN 模型\n",
    "class CustomRNN(nn.Module):\n",
    "    def __init__(self, input_size, hidden_size, output_size):\n",
    "        \"\"\"\n",
    "        RNN model initialization\n",
    "\n",
    "        Args:\n",
    "            input_size: feature dim\n",
    "            hidden_size: hidden state dim\n",
    "            output_size: output dim\n",
    "        \"\"\"\n",
    "        super(CustomRNN, self).__init__()\n",
    "        \n",
    "        # 参数定义\n",
    "        self.input_size = input_size\n",
    "        self.hidden_size = hidden_size\n",
    "        self.output_size = output_size\n",
    "        \n",
    "        # RNN 权重参数\n",
    "\n",
    "        self.W_xh = nn.Parameter(torch.randn(input_size, hidden_size))\n",
    "        self.W_hh = nn.Parameter(torch.randn(hidden_size, hidden_size))\n",
    "        self.b_h = nn.Parameter(torch.zeros(hidden_size))\n",
    "        \n",
    "        # 输出权重参数\n",
    "        self.W_ho = nn.Parameter(torch.randn(hidden_size, output_size))\n",
    "        self.b_o = nn.Parameter(torch.zeros(output_size))\n",
    "        \n",
    "        # Xavier uniform 初始化权重\n",
    "        nn.init.xavier_uniform_(self.W_xh)\n",
    "        nn.init.xavier_uniform_(self.W_hh)\n",
    "        nn.init.xavier_uniform_(self.W_ho)\n",
    "        \n",
    "\n",
    "    def forward(self, x, hidden_state=None):\n",
    "        \"\"\"\n",
    "        Args:  \n",
    "            x: (seq_len, batch_size, input_size)\n",
    "            hidden_state: (batch_size, hidden_size) \n",
    "\n",
    "        Returns:  \n",
    "            output_seq: (seq_len, batch_size, output_size)\n",
    "        \"\"\"\n",
    "        seq_len, batch_size, _ = x.shape\n",
    "        \n",
    "        if hidden_state is None:  \n",
    "            hidden_state = torch.zeros(batch_size, self.hidden_size).to(x.device)  # 初始化隐状态为零\n",
    "\n",
    "        # 遍历时间步\n",
    "        for t in range(seq_len):\n",
    "            \n",
    "            hidden_state = torch.tanh(x[t] @ self.W_xh + hidden_state @ self.W_hh + self.b_h)\n",
    "        \n",
    "        logits = hidden_state @ self.W_ho + self.b_o\n",
    "        return logits"
   ]
  },
  {
   "cell_type": "code",
   "execution_count": 10,
   "id": "4f94dbde",
   "metadata": {
    "ExecuteTime": {
     "end_time": "2025-05-25T13:36:52.322180Z",
     "start_time": "2025-05-25T13:36:52.318342Z"
    }
   },
   "outputs": [
    {
     "data": {
      "text/plain": [
       "device(type='mps')"
      ]
     },
     "execution_count": 10,
     "metadata": {},
     "output_type": "execute_result"
    }
   ],
   "source": [
    "# 超参数设置\n",
    "# Tips: 你可以自行调整来获得最佳性能\n",
    "input_size = 13      # MFCC 特征数\n",
    "hidden_size = 32     # 隐状态维度\n",
    "output_size = 3      # 输出类别数\n",
    "learning_rate = 0.005\n",
    "num_epochs = 50\n",
    "\n",
    "device = torch.device('cuda' if torch.cuda.is_available() else 'mps')\n",
    "device"
   ]
  },
  {
   "cell_type": "code",
   "execution_count": 11,
   "id": "ad5ceab2",
   "metadata": {
    "ExecuteTime": {
     "end_time": "2025-05-25T13:36:56.121678Z",
     "start_time": "2025-05-25T13:36:55.535037Z"
    }
   },
   "outputs": [],
   "source": [
    "# 模型初始化\n",
    "model = CustomRNN(input_size, hidden_size, output_size).to(device)\n",
    "criterion = nn.CrossEntropyLoss().to(device)\n",
    "optimizer = torch.optim.Adam(model.parameters(), lr=learning_rate)"
   ]
  },
  {
   "cell_type": "code",
   "execution_count": 12,
   "id": "32ecd9bb",
   "metadata": {},
   "outputs": [
    {
     "name": "stdout",
     "output_type": "stream",
     "text": [
      "Final Loss: 32.3144\n",
      "Training Time: 44.73 seconds, 0.91 s/epoch\n"
     ]
    }
   ],
   "source": [
    "# 训练\n",
    "losses = []\n",
    "\n",
    "time_start = time.time()\n",
    "for epoch in range(num_epochs):\n",
    "    model.train()\n",
    "    total_loss = 0\n",
    "    for features, labels in train_loader:\n",
    "        features, labels = features.to(device), labels.to(device)\n",
    "        # 转换为 RNN 的输入格式 (seq_len, batch_size, input_size)\n",
    "        features = features.permute(1, 0, 2)\n",
    "        logits = model(features)\n",
    "        loss = criterion(logits, labels)\n",
    "\n",
    "        # 反向传播和优化\n",
    "        optimizer.zero_grad()\n",
    "        loss.backward()\n",
    "        optimizer.step()\n",
    "\n",
    "        total_loss += loss.item()\n",
    "\n",
    "    losses.append(total_loss)\n",
    "\n",
    "    # 每个epoch刷新loss曲线\n",
    "    clear_output(wait=True)\n",
    "    plt.figure(figsize=(8, 5))\n",
    "    plt.plot(range(epoch + 1), losses, marker='.')\n",
    "    plt.title(\"Training Loss per Epoch\")\n",
    "    plt.xlabel(\"Epoch\")\n",
    "    plt.ylabel(\"Loss\")\n",
    "    plt.xlim(0, num_epochs)\n",
    "    plt.grid()\n",
    "    plt.show()\n",
    "\n",
    "time_end = time.time()\n",
    "\n",
    "# 输出最后的loss\n",
    "print(f\"Final Loss: {total_loss:.4f}\")\n",
    "print(f\"Training Time: {time_end - time_start:.2f} seconds, {(time_end - time_start) / epoch:.2f} s/epoch\")"
   ]
  },
  {
   "cell_type": "code",
   "execution_count": 14,
   "id": "2e2690d5",
   "metadata": {
    "ExecuteTime": {
     "end_time": "2025-05-25T13:38:52.089020Z",
     "start_time": "2025-05-25T13:38:51.661615Z"
    }
   },
   "outputs": [
    {
     "name": "stdout",
     "output_type": "stream",
     "text": [
      "Test Accuracy: 34.15%\n"
     ]
    }
   ],
   "source": [
    "# 评估\n",
    "model.eval()\n",
    "correct = 0\n",
    "total = 0\n",
    "with torch.no_grad():\n",
    "    for features, labels in test_loader:\n",
    "        features, labels = features.to(device), labels.to(device)\n",
    "        features = features.permute(1, 0, 2)\n",
    "        logits = model(features)\n",
    "        _,predicted = torch.max(logits.data, 1)\n",
    "        total += labels.size(0)\n",
    "        correct += (predicted == labels).sum().item()\n",
    "\n",
    "print(f\"Test Accuracy: {100 * correct / total:.2f}%\")"
   ]
  },
  {
   "cell_type": "code",
   "execution_count": 19,
   "id": "652d23c9",
   "metadata": {
    "ExecuteTime": {
     "end_time": "2025-05-25T13:41:01.452170Z",
     "start_time": "2025-05-25T13:41:01.446097Z"
    }
   },
   "outputs": [],
   "source": [
    "class CustomLSTM(nn.Module):\n",
    "    def __init__(self, input_size, hidden_size, output_size):\n",
    "        \"\"\"\n",
    "        LSTM model initialization\n",
    "        \n",
    "        Args:\n",
    "            input_size: feature dim\n",
    "            hidden_size: hidden state dim\n",
    "            output_size: output dim\n",
    "        \"\"\"\n",
    "        super(CustomLSTM, self).__init__()\n",
    "        self.input_size = input_size\n",
    "        self.hidden_size = hidden_size\n",
    "\n",
    "        # 初始化 LSTM 的权重参数\n",
    "        # 遗忘门\n",
    "        self.W_xf = nn.Parameter(torch.randn(input_size, hidden_size))\n",
    "        self.W_hf = nn.Parameter(torch.randn(hidden_size, hidden_size))\n",
    "        self.b_f = nn.Parameter(torch.zeros(hidden_size))\n",
    "\n",
    "        # 输入门\n",
    "        self.W_xi = nn.Parameter(torch.randn(input_size, hidden_size))\n",
    "        self.W_hi = nn.Parameter(torch.randn(hidden_size, hidden_size))\n",
    "        self.b_i = nn.Parameter(torch.zeros(hidden_size))\n",
    "\n",
    "        # 候选记忆单元\n",
    "        self.W_xc = nn.Parameter(torch.randn(input_size, hidden_size))\n",
    "        self.W_hc = nn.Parameter(torch.randn(hidden_size, hidden_size))\n",
    "        self.b_c = nn.Parameter(torch.zeros(hidden_size))\n",
    "\n",
    "        # 输出门\n",
    "        self.W_xo = nn.Parameter(torch.randn(input_size, hidden_size))\n",
    "        self.W_ho = nn.Parameter(torch.randn(hidden_size, hidden_size))\n",
    "        self.b_o = nn.Parameter(torch.zeros(hidden_size))\n",
    "\n",
    "        # 输出层参数\n",
    "        self.fc = nn.Linear(in_features=hidden_size, out_features=output_size)\n",
    "\n",
    "        # 初始化参数\n",
    "        self.init_weights()\n",
    "\n",
    "    def init_weights(self):\n",
    "        \"\"\"\n",
    "        Apply Xavier uniform initialization to the weights of the LSTM.\n",
    "        \"\"\"\n",
    "        for param in self.parameters():\n",
    "            if param.dim() > 1:  # 对权重矩阵进行初始化\n",
    "                nn.init.xavier_uniform_(param)\n",
    "\n",
    "    def forward(self, x):\n",
    "        \"\"\"\n",
    "        Args:\n",
    "            x: (seq_len, batch_size, input_size)\n",
    "        \n",
    "        Returns:\n",
    "            logits: (batch_size, output_size)\n",
    "        \"\"\"\n",
    "        seq_len, batch_size, _ = x.shape\n",
    "\n",
    "        # 初始化隐状态和细胞状态\n",
    "        h_t = torch.zeros(batch_size, self.hidden_size).to(x.device)  # 初始隐状态\n",
    "        c_t = torch.zeros(batch_size, self.hidden_size).to(x.device)  # 初始细胞状态\n",
    "\n",
    "        # 遍历时间步\n",
    "        for t in range(seq_len):\n",
    "            # 遗忘门\n",
    "            f_t = torch.sigmoid(x[t] @ self.W_xf + h_t @ self.W_hf + self.b_f)\n",
    "\n",
    "            # 输入门\n",
    "            i_t = torch.sigmoid(x[t] @ self.W_xi + h_t @ self.W_hi + self.b_i)\n",
    "\n",
    "            # 候选单元\n",
    "            c_hat_t = torch.tanh(x[t] @ self.W_xc + h_t @ self.W_hc + self.b_c)\n",
    "\n",
    "            # 更新细胞状态\n",
    "            c_t = f_t * c_t + i_t * c_hat_t\n",
    "\n",
    "            # 输出门\n",
    "            o_t = torch.sigmoid(x[t] @ self.W_xo + h_t @ self.W_ho + self.b_o)\n",
    "\n",
    "            # 更新隐状态\n",
    "            h_t = o_t * torch.tanh(c_t)\n",
    "\n",
    "        # 最后时间步的隐状态输入输出层\n",
    "        logits = self.fc(h_t)  # (batch_size, output_size)\n",
    "        return logits"
   ]
  },
  {
   "cell_type": "code",
   "execution_count": 20,
   "id": "4af674f1",
   "metadata": {
    "ExecuteTime": {
     "end_time": "2025-05-25T13:41:03.046492Z",
     "start_time": "2025-05-25T13:41:03.036021Z"
    }
   },
   "outputs": [],
   "source": [
    "# 模型初始化\n",
    "lstm_model = CustomLSTM(input_size, hidden_size, output_size).to(device)\n",
    "criterion = nn.CrossEntropyLoss().to(device)\n",
    "optimizer = torch.optim.Adam(lstm_model.parameters(), lr=learning_rate)"
   ]
  },
  {
   "cell_type": "code",
   "execution_count": 21,
   "id": "4a9d4a4e",
   "metadata": {},
   "outputs": [
    {
     "name": "stdout",
     "output_type": "stream",
     "text": [
      "Final Loss: 4.1891\n",
      "Training Time: 86.65 seconds, 1.77 s/epoch\n"
     ]
    }
   ],
   "source": [
    "# 训练\n",
    "losses = []\n",
    "\n",
    "time_start = time.time()\n",
    "for epoch in range(num_epochs):\n",
    "    lstm_model.train()\n",
    "    total_loss = 0\n",
    "    for features, labels in train_loader:\n",
    "        features, labels = features.to(device), labels.to(device)\n",
    "        # 转换为 RNN 的输入格式 (seq_len, batch_size, input_size)\n",
    "        features = features.permute(1, 0, 2)\n",
    "        logits = lstm_model(features)\n",
    "        loss = criterion(logits, labels)\n",
    "\n",
    "        # 反向传播和优化\n",
    "        optimizer.zero_grad()\n",
    "        loss.backward()\n",
    "        optimizer.step()\n",
    "\n",
    "        total_loss += loss.item()\n",
    "\n",
    "    losses.append(total_loss)\n",
    "\n",
    "    # 每个epoch刷新loss曲线\n",
    "    clear_output(wait=True)\n",
    "    plt.figure(figsize=(8, 5))\n",
    "    plt.plot(range(epoch + 1), losses, marker='.')\n",
    "    plt.title(\"Training Loss per Epoch\")\n",
    "    plt.xlabel(\"Epoch\")\n",
    "    plt.ylabel(\"Loss\")\n",
    "    plt.xlim(0, num_epochs)\n",
    "    plt.grid()\n",
    "    plt.show()\n",
    "\n",
    "time_end = time.time()\n",
    "\n",
    "# 输出最后的loss\n",
    "print(f\"Final Loss: {total_loss:.4f}\")\n",
    "print(f\"Training Time: {time_end - time_start:.2f} seconds, {(time_end - time_start) / epoch:.2f} s/epoch\")"
   ]
  },
  {
   "cell_type": "code",
   "execution_count": 23,
   "id": "ce6397dd",
   "metadata": {
    "ExecuteTime": {
     "end_time": "2025-05-25T13:42:50.943471Z",
     "start_time": "2025-05-25T13:42:50.671381Z"
    }
   },
   "outputs": [
    {
     "name": "stdout",
     "output_type": "stream",
     "text": [
      "Test Accuracy: 89.43%\n"
     ]
    }
   ],
   "source": [
    "# 评估\n",
    "lstm_model.eval()\n",
    "correct = 0\n",
    "total = 0\n",
    "with torch.no_grad():\n",
    "    for features, labels in test_loader:\n",
    "        features, labels = features.to(device), labels.to(device)\n",
    "        features = features.permute(1, 0, 2)\n",
    "        logits = lstm_model(features)\n",
    "        _,predicted = torch.max(logits.data, 1)\n",
    "        total += labels.size(0)\n",
    "        correct += (predicted == labels).sum().item()\n",
    "\n",
    "print(f\"Test Accuracy: {100 * correct / total:.2f}%\")"
   ]
  },
  {
   "cell_type": "markdown",
   "id": "67b3731b",
   "metadata": {},
   "source": [
    "使用 LSTM 后，在训练阶段能观测到 loss 下降更为迅速，在训练 50 个 epoch 后 loss 下降到一个较低的水平（一般在 5.0 以下），并且在测试集上准确率能够达到 85%-95%，这表明 LSTM 模型学会了如何进行音频分类。"
   ]
  }
 ],
 "metadata": {
  "kernelspec": {
   "display_name": "rnn_env",
   "language": "python",
   "name": "python3"
  },
  "language_info": {
   "codemirror_mode": {
    "name": "ipython",
    "version": 3
   },
   "file_extension": ".py",
   "mimetype": "text/x-python",
   "name": "python",
   "nbconvert_exporter": "python",
   "pygments_lexer": "ipython3",
   "version": "3.9.21"
  }
 },
 "nbformat": 4,
 "nbformat_minor": 5
}
