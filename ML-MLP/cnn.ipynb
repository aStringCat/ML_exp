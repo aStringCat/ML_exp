{
 "cells": [
  {
   "cell_type": "code",
   "metadata": {
    "ExecuteTime": {
     "end_time": "2025-05-25T12:50:50.140106Z",
     "start_time": "2025-05-25T12:50:48.416797Z"
    }
   },
   "source": [
    "# 步骤一：导入相关库\n",
    "import os\n",
    "import torch\n",
    "import torch.nn as nn\n",
    "import torch.utils.data as Data\n",
    "import torchvision\n",
    "import torchvision.transforms as transforms\n",
    "from sklearn.metrics import confusion_matrix\n",
    "import matplotlib.pyplot as plt\n",
    "import seaborn as sns\n",
    "from tqdm import tqdm"
   ],
   "outputs": [],
   "execution_count": 1
  },
  {
   "cell_type": "code",
   "metadata": {
    "ExecuteTime": {
     "end_time": "2025-05-25T13:32:24.741701Z",
     "start_time": "2025-05-25T13:32:24.114830Z"
    }
   },
   "source": [
    "# 步骤二：加载数据集\n",
    "# 2.1 设置超参数\n",
    "EPOCH = 10\n",
    "BATCH_SIZE = 64\n",
    "LR = 0.003\n",
    "DOWNLOAD_CIFAR = False\n",
    "DEVICE = 'mps'\n",
    "cifar10_mean = [0.4914, 0.4822, 0.4465]\n",
    "cifar10_std = [0.2023, 0.1994, 0.2010]\n",
    "\n",
    "# 2.2 数据预处理\n",
    "transform = transforms.Compose([\n",
    "    transforms.ToTensor(),\n",
    "    transforms.Normalize(mean=cifar10_mean, std=cifar10_std),\n",
    "])\n",
    "\n",
    "# 2.3 检查是否需要下载数据集\n",
    "if not (os.path.exists('./cifar/')) or not os.listdir('./cifar/'):\n",
    "    DOWNLOAD_CIFAR = True\n",
    "\n",
    "# 2.4 加载训练集和测试集\n",
    "train_data = torchvision.datasets.CIFAR10(\n",
    "    root='./cifar/',\n",
    "    train=True,\n",
    "    transform=transform,\n",
    "    download=DOWNLOAD_CIFAR\n",
    ")\n",
    "test_data = torchvision.datasets.CIFAR10(\n",
    "    root='./cifar/',\n",
    "    train=False,\n",
    "    transform=transform,\n",
    "    download=DOWNLOAD_CIFAR\n",
    ")\n",
    "\n",
    "# 2.5 封装数据加载器\n",
    "train_loader = Data.DataLoader(\n",
    "    dataset=train_data,\n",
    "    batch_size=BATCH_SIZE,\n",
    "    shuffle=True,\n",
    "    num_workers=16\n",
    ")\n",
    "test_loader = Data.DataLoader(\n",
    "    dataset=test_data,\n",
    "    batch_size=BATCH_SIZE,\n",
    "    shuffle=False,\n",
    "    num_workers=16\n",
    ")"
   ],
   "outputs": [],
   "execution_count": 6
  },
  {
   "cell_type": "code",
   "metadata": {
    "ExecuteTime": {
     "end_time": "2025-05-25T12:50:53.967196Z",
     "start_time": "2025-05-25T12:50:53.918777Z"
    }
   },
   "source": [
    "# 步骤三：CNN模型设计\n",
    "class CNN(nn.Module):\n",
    "    def __init__(self):\n",
    "        super(CNN, self).__init__()\n",
    "        self.conv = nn.Sequential(\n",
    "            nn.Conv2d(in_channels=3, out_channels=32, kernel_size=5, stride=1, padding=2),\n",
    "            nn.BatchNorm2d(32),\n",
    "            nn.ReLU(),\n",
    "            nn.MaxPool2d(kernel_size=2, stride=2),\n",
    "\n",
    "            nn.Conv2d(in_channels=32, out_channels=64, kernel_size=5, stride=1, padding=2),\n",
    "            nn.BatchNorm2d(64),\n",
    "            nn.ReLU(),\n",
    "            nn.MaxPool2d(kernel_size=2, stride=2)\n",
    "        )\n",
    "        self.fc = nn.Sequential(\n",
    "            nn.Flatten(),\n",
    "            nn.Linear(in_features=64 * 8 * 8, out_features=512),\n",
    "            nn.ReLU(),\n",
    "            nn.Dropout(p=0.5),\n",
    "            nn.Linear(in_features=512, out_features=10)\n",
    "        )\n",
    "\n",
    "    def forward(self, x):\n",
    "        x = self.conv(x)\n",
    "        output = self.fc(x)\n",
    "        return output\n",
    "\n",
    "\n",
    "# 3.2 实例化模型并迁移到设备\n",
    "cnn = CNN().to(DEVICE)\n",
    "print(cnn)"
   ],
   "outputs": [
    {
     "name": "stdout",
     "output_type": "stream",
     "text": [
      "CNN(\n",
      "  (conv): Sequential(\n",
      "    (0): Conv2d(3, 32, kernel_size=(5, 5), stride=(1, 1), padding=(2, 2))\n",
      "    (1): BatchNorm2d(32, eps=1e-05, momentum=0.1, affine=True, track_running_stats=True)\n",
      "    (2): ReLU()\n",
      "    (3): MaxPool2d(kernel_size=2, stride=2, padding=0, dilation=1, ceil_mode=False)\n",
      "    (4): Conv2d(32, 64, kernel_size=(5, 5), stride=(1, 1), padding=(2, 2))\n",
      "    (5): BatchNorm2d(64, eps=1e-05, momentum=0.1, affine=True, track_running_stats=True)\n",
      "    (6): ReLU()\n",
      "    (7): MaxPool2d(kernel_size=2, stride=2, padding=0, dilation=1, ceil_mode=False)\n",
      "  )\n",
      "  (fc): Sequential(\n",
      "    (0): Flatten(start_dim=1, end_dim=-1)\n",
      "    (1): Linear(in_features=4096, out_features=512, bias=True)\n",
      "    (2): ReLU()\n",
      "    (3): Dropout(p=0.5, inplace=False)\n",
      "    (4): Linear(in_features=512, out_features=10, bias=True)\n",
      "  )\n",
      ")\n"
     ]
    }
   ],
   "execution_count": 3
  },
  {
   "cell_type": "code",
   "metadata": {
    "ExecuteTime": {
     "end_time": "2025-05-25T12:51:03.388080Z",
     "start_time": "2025-05-25T12:51:03.385111Z"
    }
   },
   "source": [
    "# 步骤四：设置损失函数与优化器\n",
    "optimizer = torch.optim.Adam(cnn.parameters(), lr=LR)\n",
    "criterion = nn.CrossEntropyLoss()"
   ],
   "outputs": [],
   "execution_count": 4
  },
  {
   "cell_type": "code",
   "metadata": {
    "ExecuteTime": {
     "end_time": "2025-05-25T13:31:42.644343Z",
     "start_time": "2025-05-25T12:51:05.467829Z"
    }
   },
   "source": [
    "# 步骤五：训练模型\n",
    "train_losses = []\n",
    "test_accuracies = []\n",
    "\n",
    "\n",
    "# 5.1 定义训练函数\n",
    "def train(epoch):\n",
    "    cnn.train()\n",
    "    epoch_loss = 0.0\n",
    "    for batch_idx, (inputs, targets) in enumerate(tqdm(train_loader, desc=f\"Training Epoch {epoch+1}\")):\n",
    "        inputs, targets = inputs.to(DEVICE), targets.to(DEVICE)\n",
    "\n",
    "        optimizer.zero_grad()\n",
    "        outputs = cnn(inputs)\n",
    "        loss = criterion(outputs, targets)\n",
    "        loss.backward()\n",
    "        optimizer.step()\n",
    "\n",
    "        epoch_loss += loss.item()\n",
    "\n",
    "        if batch_idx > 0 and batch_idx % 100 == 0:\n",
    "            print(f'  Batch {batch_idx}/{len(train_loader)}, Current Avg Loss: {epoch_loss / (batch_idx + 1):.4f}')\n",
    "\n",
    "    avg_epoch_loss = epoch_loss / len(train_loader)\n",
    "    train_losses.append(avg_epoch_loss)\n",
    "    print(f\"Epoch [{epoch+1}] Average Train Loss: {avg_epoch_loss:.4f}\")\n",
    "\n",
    "\n",
    "# 5.2 定义测试函数（返回 acc，预测标签，真实标签）\n",
    "def test():\n",
    "    cnn.eval()\n",
    "    correct = 0\n",
    "    total = 0\n",
    "    all_preds = []\n",
    "    all_labels = []\n",
    "    with torch.no_grad():\n",
    "        for inputs, targets in tqdm(test_loader, desc=\"Testing\"):\n",
    "            inputs, targets = inputs.to(DEVICE), targets.to(DEVICE)\n",
    "            outputs = cnn(inputs)\n",
    "            _, predicted = torch.max(outputs.data, 1)\n",
    "            total += targets.size(0)\n",
    "            correct += (predicted == targets).sum().item()\n",
    "            all_preds.append(predicted.cpu())\n",
    "            all_labels.append(targets.cpu())\n",
    "\n",
    "    # 计算准确率（百分比形式）\n",
    "    acc = 100. * correct / total\n",
    "    pred_y = torch.cat(all_preds)\n",
    "    true_y = torch.cat(all_labels)\n",
    "    return acc, pred_y, true_y\n",
    "\n",
    "\n",
    "# 5.3 开始训练过程\n",
    "os.makedirs('./output', exist_ok=True)\n",
    "\n",
    "for epoch in range(EPOCH):\n",
    "    train(epoch)\n",
    "    acc, _, _ = test()\n",
    "    test_accuracies.append(acc)\n",
    "    print(f\"Test Accuracy after Epoch [{epoch+1}]: {acc:.2f}%\")"
   ],
   "outputs": [
    {
     "name": "stderr",
     "output_type": "stream",
     "text": [
      "Training Epoch 1:  13%|█▎        | 104/782 [01:44<00:30, 21.97it/s]  "
     ]
    },
    {
     "name": "stdout",
     "output_type": "stream",
     "text": [
      "  Batch 100/782, Current Avg Loss: 2.4879\n"
     ]
    },
    {
     "name": "stderr",
     "output_type": "stream",
     "text": [
      "Training Epoch 1:  27%|██▋       | 212/782 [02:37<00:21, 26.82it/s]"
     ]
    },
    {
     "name": "stdout",
     "output_type": "stream",
     "text": [
      "  Batch 200/782, Current Avg Loss: 2.1867\n"
     ]
    },
    {
     "name": "stderr",
     "output_type": "stream",
     "text": [
      "Training Epoch 1:  40%|███▉      | 310/782 [02:39<00:08, 52.46it/s]"
     ]
    },
    {
     "name": "stdout",
     "output_type": "stream",
     "text": [
      "  Batch 300/782, Current Avg Loss: 2.0553\n"
     ]
    },
    {
     "name": "stderr",
     "output_type": "stream",
     "text": [
      "Training Epoch 1:  52%|█████▏    | 405/782 [02:41<00:10, 34.40it/s]"
     ]
    },
    {
     "name": "stdout",
     "output_type": "stream",
     "text": [
      "  Batch 400/782, Current Avg Loss: 1.9792\n"
     ]
    },
    {
     "name": "stderr",
     "output_type": "stream",
     "text": [
      "Training Epoch 1:  65%|██████▌   | 509/782 [02:44<00:06, 41.89it/s]"
     ]
    },
    {
     "name": "stdout",
     "output_type": "stream",
     "text": [
      "  Batch 500/782, Current Avg Loss: 1.9251\n"
     ]
    },
    {
     "name": "stderr",
     "output_type": "stream",
     "text": [
      "Training Epoch 1:  78%|███████▊  | 609/782 [02:46<00:04, 41.29it/s]"
     ]
    },
    {
     "name": "stdout",
     "output_type": "stream",
     "text": [
      "  Batch 600/782, Current Avg Loss: 1.8777\n"
     ]
    },
    {
     "name": "stderr",
     "output_type": "stream",
     "text": [
      "Training Epoch 1:  91%|█████████ | 713/782 [02:48<00:01, 63.11it/s]"
     ]
    },
    {
     "name": "stdout",
     "output_type": "stream",
     "text": [
      "  Batch 700/782, Current Avg Loss: 1.8397\n"
     ]
    },
    {
     "name": "stderr",
     "output_type": "stream",
     "text": [
      "Training Epoch 1: 100%|██████████| 782/782 [07:13<00:00,  1.81it/s]\n"
     ]
    },
    {
     "name": "stdout",
     "output_type": "stream",
     "text": [
      "Epoch [1] Average Train Loss: 1.8147\n"
     ]
    },
    {
     "name": "stderr",
     "output_type": "stream",
     "text": [
      "Testing: 100%|██████████| 157/157 [02:56<00:00,  1.12s/it]\n"
     ]
    },
    {
     "name": "stdout",
     "output_type": "stream",
     "text": [
      "Test Accuracy after Epoch [1]: 46.70%\n"
     ]
    },
    {
     "name": "stderr",
     "output_type": "stream",
     "text": [
      "Training Epoch 2:  15%|█▍        | 115/782 [00:21<00:15, 42.84it/s]"
     ]
    },
    {
     "name": "stdout",
     "output_type": "stream",
     "text": [
      "  Batch 100/782, Current Avg Loss: 1.5667\n"
     ]
    },
    {
     "name": "stderr",
     "output_type": "stream",
     "text": [
      "Training Epoch 2:  29%|██▊       | 223/782 [00:21<00:05, 106.59it/s]"
     ]
    },
    {
     "name": "stdout",
     "output_type": "stream",
     "text": [
      "  Batch 200/782, Current Avg Loss: 1.5301\n"
     ]
    },
    {
     "name": "stderr",
     "output_type": "stream",
     "text": [
      "Training Epoch 2:  41%|████      | 319/782 [00:22<00:04, 114.40it/s]"
     ]
    },
    {
     "name": "stdout",
     "output_type": "stream",
     "text": [
      "  Batch 300/782, Current Avg Loss: 1.5181\n"
     ]
    },
    {
     "name": "stderr",
     "output_type": "stream",
     "text": [
      "Training Epoch 2:  53%|█████▎    | 415/782 [00:23<00:03, 116.37it/s]"
     ]
    },
    {
     "name": "stdout",
     "output_type": "stream",
     "text": [
      "  Batch 400/782, Current Avg Loss: 1.4998\n"
     ]
    },
    {
     "name": "stderr",
     "output_type": "stream",
     "text": [
      "Training Epoch 2:  67%|██████▋   | 523/782 [00:24<00:02, 118.01it/s]"
     ]
    },
    {
     "name": "stdout",
     "output_type": "stream",
     "text": [
      "  Batch 500/782, Current Avg Loss: 1.4865\n"
     ]
    },
    {
     "name": "stderr",
     "output_type": "stream",
     "text": [
      "Training Epoch 2:  79%|███████▉  | 619/782 [00:25<00:01, 115.43it/s]"
     ]
    },
    {
     "name": "stdout",
     "output_type": "stream",
     "text": [
      "  Batch 600/782, Current Avg Loss: 1.4751\n"
     ]
    },
    {
     "name": "stderr",
     "output_type": "stream",
     "text": [
      "Training Epoch 2:  91%|█████████▏| 715/782 [00:26<00:00, 114.81it/s]"
     ]
    },
    {
     "name": "stdout",
     "output_type": "stream",
     "text": [
      "  Batch 700/782, Current Avg Loss: 1.4636\n"
     ]
    },
    {
     "name": "stderr",
     "output_type": "stream",
     "text": [
      "Training Epoch 2: 100%|██████████| 782/782 [01:46<00:00,  7.32it/s] \n"
     ]
    },
    {
     "name": "stdout",
     "output_type": "stream",
     "text": [
      "Epoch [2] Average Train Loss: 1.4531\n"
     ]
    },
    {
     "name": "stderr",
     "output_type": "stream",
     "text": [
      "Testing: 100%|██████████| 157/157 [01:36<00:00,  1.63it/s]\n"
     ]
    },
    {
     "name": "stdout",
     "output_type": "stream",
     "text": [
      "Test Accuracy after Epoch [2]: 58.91%\n"
     ]
    },
    {
     "name": "stderr",
     "output_type": "stream",
     "text": [
      "Training Epoch 3:  15%|█▌        | 118/782 [00:21<00:11, 56.08it/s]"
     ]
    },
    {
     "name": "stdout",
     "output_type": "stream",
     "text": [
      "  Batch 100/782, Current Avg Loss: 1.3274\n"
     ]
    },
    {
     "name": "stderr",
     "output_type": "stream",
     "text": [
      "Training Epoch 3:  28%|██▊       | 222/782 [00:22<00:05, 105.63it/s]"
     ]
    },
    {
     "name": "stdout",
     "output_type": "stream",
     "text": [
      "  Batch 200/782, Current Avg Loss: 1.3084\n"
     ]
    },
    {
     "name": "stderr",
     "output_type": "stream",
     "text": [
      "Training Epoch 3:  41%|████      | 317/782 [00:23<00:04, 110.34it/s]"
     ]
    },
    {
     "name": "stdout",
     "output_type": "stream",
     "text": [
      "  Batch 300/782, Current Avg Loss: 1.3096\n"
     ]
    },
    {
     "name": "stderr",
     "output_type": "stream",
     "text": [
      "Training Epoch 3:  53%|█████▎    | 413/782 [00:24<00:03, 112.89it/s]"
     ]
    },
    {
     "name": "stdout",
     "output_type": "stream",
     "text": [
      "  Batch 400/782, Current Avg Loss: 1.2977\n"
     ]
    },
    {
     "name": "stderr",
     "output_type": "stream",
     "text": [
      "Training Epoch 3:  67%|██████▋   | 521/782 [00:25<00:02, 108.26it/s]"
     ]
    },
    {
     "name": "stdout",
     "output_type": "stream",
     "text": [
      "  Batch 500/782, Current Avg Loss: 1.2915\n"
     ]
    },
    {
     "name": "stderr",
     "output_type": "stream",
     "text": [
      "Training Epoch 3:  79%|███████▊  | 614/782 [00:26<00:01, 106.60it/s]"
     ]
    },
    {
     "name": "stdout",
     "output_type": "stream",
     "text": [
      "  Batch 600/782, Current Avg Loss: 1.2814\n"
     ]
    },
    {
     "name": "stderr",
     "output_type": "stream",
     "text": [
      "Training Epoch 3:  92%|█████████▏| 718/782 [00:27<00:00, 109.47it/s]"
     ]
    },
    {
     "name": "stdout",
     "output_type": "stream",
     "text": [
      "  Batch 700/782, Current Avg Loss: 1.2768\n"
     ]
    },
    {
     "name": "stderr",
     "output_type": "stream",
     "text": [
      "Training Epoch 3: 100%|██████████| 782/782 [01:47<00:00,  7.26it/s] \n"
     ]
    },
    {
     "name": "stdout",
     "output_type": "stream",
     "text": [
      "Epoch [3] Average Train Loss: 1.2705\n"
     ]
    },
    {
     "name": "stderr",
     "output_type": "stream",
     "text": [
      "Testing: 100%|██████████| 157/157 [01:35<00:00,  1.64it/s]\n"
     ]
    },
    {
     "name": "stdout",
     "output_type": "stream",
     "text": [
      "Test Accuracy after Epoch [3]: 62.65%\n"
     ]
    },
    {
     "name": "stderr",
     "output_type": "stream",
     "text": [
      "Training Epoch 4:  16%|█▌        | 123/782 [00:21<00:12, 52.37it/s]"
     ]
    },
    {
     "name": "stdout",
     "output_type": "stream",
     "text": [
      "  Batch 100/782, Current Avg Loss: 1.2083\n"
     ]
    },
    {
     "name": "stderr",
     "output_type": "stream",
     "text": [
      "Training Epoch 4:  28%|██▊       | 219/782 [00:22<00:05, 108.13it/s]"
     ]
    },
    {
     "name": "stdout",
     "output_type": "stream",
     "text": [
      "  Batch 200/782, Current Avg Loss: 1.2000\n"
     ]
    },
    {
     "name": "stderr",
     "output_type": "stream",
     "text": [
      "Training Epoch 4:  40%|████      | 315/782 [00:23<00:04, 114.45it/s]"
     ]
    },
    {
     "name": "stdout",
     "output_type": "stream",
     "text": [
      "  Batch 300/782, Current Avg Loss: 1.1863\n"
     ]
    },
    {
     "name": "stderr",
     "output_type": "stream",
     "text": [
      "Training Epoch 4:  54%|█████▍    | 423/782 [00:24<00:03, 115.44it/s]"
     ]
    },
    {
     "name": "stdout",
     "output_type": "stream",
     "text": [
      "  Batch 400/782, Current Avg Loss: 1.1726\n"
     ]
    },
    {
     "name": "stderr",
     "output_type": "stream",
     "text": [
      "Training Epoch 4:  66%|██████▋   | 519/782 [00:24<00:02, 115.08it/s]"
     ]
    },
    {
     "name": "stdout",
     "output_type": "stream",
     "text": [
      "  Batch 500/782, Current Avg Loss: 1.1749\n"
     ]
    },
    {
     "name": "stderr",
     "output_type": "stream",
     "text": [
      "Training Epoch 4:  79%|███████▊  | 615/782 [00:25<00:01, 114.54it/s]"
     ]
    },
    {
     "name": "stdout",
     "output_type": "stream",
     "text": [
      "  Batch 600/782, Current Avg Loss: 1.1703\n"
     ]
    },
    {
     "name": "stderr",
     "output_type": "stream",
     "text": [
      "Training Epoch 4:  92%|█████████▏| 723/782 [00:26<00:00, 113.78it/s]"
     ]
    },
    {
     "name": "stdout",
     "output_type": "stream",
     "text": [
      "  Batch 700/782, Current Avg Loss: 1.1656\n"
     ]
    },
    {
     "name": "stderr",
     "output_type": "stream",
     "text": [
      "Training Epoch 4: 100%|██████████| 782/782 [01:47<00:00,  7.29it/s] \n"
     ]
    },
    {
     "name": "stdout",
     "output_type": "stream",
     "text": [
      "Epoch [4] Average Train Loss: 1.1630\n"
     ]
    },
    {
     "name": "stderr",
     "output_type": "stream",
     "text": [
      "Testing: 100%|██████████| 157/157 [01:34<00:00,  1.65it/s]\n"
     ]
    },
    {
     "name": "stdout",
     "output_type": "stream",
     "text": [
      "Test Accuracy after Epoch [4]: 66.38%\n"
     ]
    },
    {
     "name": "stderr",
     "output_type": "stream",
     "text": [
      "Training Epoch 5:  15%|█▍        | 114/782 [00:21<00:15, 42.55it/s]"
     ]
    },
    {
     "name": "stdout",
     "output_type": "stream",
     "text": [
      "  Batch 100/782, Current Avg Loss: 1.0689\n"
     ]
    },
    {
     "name": "stderr",
     "output_type": "stream",
     "text": [
      "Training Epoch 5:  29%|██▊       | 223/782 [00:22<00:05, 109.80it/s]"
     ]
    },
    {
     "name": "stdout",
     "output_type": "stream",
     "text": [
      "  Batch 200/782, Current Avg Loss: 1.0651\n"
     ]
    },
    {
     "name": "stderr",
     "output_type": "stream",
     "text": [
      "Training Epoch 5:  41%|████      | 319/782 [00:23<00:04, 112.27it/s]"
     ]
    },
    {
     "name": "stdout",
     "output_type": "stream",
     "text": [
      "  Batch 300/782, Current Avg Loss: 1.0658\n"
     ]
    },
    {
     "name": "stderr",
     "output_type": "stream",
     "text": [
      "Training Epoch 5:  53%|█████▎    | 415/782 [00:23<00:03, 116.56it/s]"
     ]
    },
    {
     "name": "stdout",
     "output_type": "stream",
     "text": [
      "  Batch 400/782, Current Avg Loss: 1.0720\n"
     ]
    },
    {
     "name": "stderr",
     "output_type": "stream",
     "text": [
      "Training Epoch 5:  67%|██████▋   | 523/782 [00:24<00:02, 112.26it/s]"
     ]
    },
    {
     "name": "stdout",
     "output_type": "stream",
     "text": [
      "  Batch 500/782, Current Avg Loss: 1.0696\n"
     ]
    },
    {
     "name": "stderr",
     "output_type": "stream",
     "text": [
      "Training Epoch 5:  79%|███████▉  | 619/782 [00:25<00:01, 113.68it/s]"
     ]
    },
    {
     "name": "stdout",
     "output_type": "stream",
     "text": [
      "  Batch 600/782, Current Avg Loss: 1.0659\n"
     ]
    },
    {
     "name": "stderr",
     "output_type": "stream",
     "text": [
      "Training Epoch 5:  91%|█████████▏| 715/782 [00:26<00:00, 115.21it/s]"
     ]
    },
    {
     "name": "stdout",
     "output_type": "stream",
     "text": [
      "  Batch 700/782, Current Avg Loss: 1.0637\n"
     ]
    },
    {
     "name": "stderr",
     "output_type": "stream",
     "text": [
      "Training Epoch 5: 100%|██████████| 782/782 [01:47<00:00,  7.30it/s] \n"
     ]
    },
    {
     "name": "stdout",
     "output_type": "stream",
     "text": [
      "Epoch [5] Average Train Loss: 1.0655\n"
     ]
    },
    {
     "name": "stderr",
     "output_type": "stream",
     "text": [
      "Testing: 100%|██████████| 157/157 [01:36<00:00,  1.63it/s]\n"
     ]
    },
    {
     "name": "stdout",
     "output_type": "stream",
     "text": [
      "Test Accuracy after Epoch [5]: 69.03%\n"
     ]
    },
    {
     "name": "stderr",
     "output_type": "stream",
     "text": [
      "Training Epoch 6:  15%|█▍        | 116/782 [00:22<00:13, 49.31it/s]"
     ]
    },
    {
     "name": "stdout",
     "output_type": "stream",
     "text": [
      "  Batch 100/782, Current Avg Loss: 1.0035\n"
     ]
    },
    {
     "name": "stderr",
     "output_type": "stream",
     "text": [
      "Training Epoch 6:  29%|██▊       | 224/782 [00:22<00:05, 110.58it/s]"
     ]
    },
    {
     "name": "stdout",
     "output_type": "stream",
     "text": [
      "  Batch 200/782, Current Avg Loss: 1.0001\n"
     ]
    },
    {
     "name": "stderr",
     "output_type": "stream",
     "text": [
      "Training Epoch 6:  41%|████      | 320/782 [00:23<00:03, 115.86it/s]"
     ]
    },
    {
     "name": "stdout",
     "output_type": "stream",
     "text": [
      "  Batch 300/782, Current Avg Loss: 0.9961\n"
     ]
    },
    {
     "name": "stderr",
     "output_type": "stream",
     "text": [
      "Training Epoch 6:  53%|█████▎    | 416/782 [00:24<00:03, 105.79it/s]"
     ]
    },
    {
     "name": "stdout",
     "output_type": "stream",
     "text": [
      "  Batch 400/782, Current Avg Loss: 1.0003\n"
     ]
    },
    {
     "name": "stderr",
     "output_type": "stream",
     "text": [
      "Training Epoch 6:  66%|██████▌   | 516/782 [00:25<00:02, 107.80it/s]"
     ]
    },
    {
     "name": "stdout",
     "output_type": "stream",
     "text": [
      "  Batch 500/782, Current Avg Loss: 1.0045\n"
     ]
    },
    {
     "name": "stderr",
     "output_type": "stream",
     "text": [
      "Training Epoch 6:  80%|███████▉  | 622/782 [00:26<00:01, 114.61it/s]"
     ]
    },
    {
     "name": "stdout",
     "output_type": "stream",
     "text": [
      "  Batch 600/782, Current Avg Loss: 1.0060\n"
     ]
    },
    {
     "name": "stderr",
     "output_type": "stream",
     "text": [
      "Training Epoch 6:  92%|█████████▏| 718/782 [00:27<00:00, 111.55it/s]"
     ]
    },
    {
     "name": "stdout",
     "output_type": "stream",
     "text": [
      "  Batch 700/782, Current Avg Loss: 1.0061\n"
     ]
    },
    {
     "name": "stderr",
     "output_type": "stream",
     "text": [
      "Training Epoch 6: 100%|██████████| 782/782 [01:47<00:00,  7.24it/s] \n"
     ]
    },
    {
     "name": "stdout",
     "output_type": "stream",
     "text": [
      "Epoch [6] Average Train Loss: 1.0039\n"
     ]
    },
    {
     "name": "stderr",
     "output_type": "stream",
     "text": [
      "Testing: 100%|██████████| 157/157 [01:35<00:00,  1.64it/s]\n"
     ]
    },
    {
     "name": "stdout",
     "output_type": "stream",
     "text": [
      "Test Accuracy after Epoch [6]: 70.10%\n"
     ]
    },
    {
     "name": "stderr",
     "output_type": "stream",
     "text": [
      "Training Epoch 7:  14%|█▍        | 113/782 [00:22<00:16, 41.11it/s]"
     ]
    },
    {
     "name": "stdout",
     "output_type": "stream",
     "text": [
      "  Batch 100/782, Current Avg Loss: 0.9089\n"
     ]
    },
    {
     "name": "stderr",
     "output_type": "stream",
     "text": [
      "Training Epoch 7:  28%|██▊       | 221/782 [00:23<00:05, 107.33it/s]"
     ]
    },
    {
     "name": "stdout",
     "output_type": "stream",
     "text": [
      "  Batch 200/782, Current Avg Loss: 0.9237\n"
     ]
    },
    {
     "name": "stderr",
     "output_type": "stream",
     "text": [
      "Training Epoch 7:  41%|████      | 317/782 [00:24<00:04, 113.79it/s]"
     ]
    },
    {
     "name": "stdout",
     "output_type": "stream",
     "text": [
      "  Batch 300/782, Current Avg Loss: 0.9296\n"
     ]
    },
    {
     "name": "stderr",
     "output_type": "stream",
     "text": [
      "Training Epoch 7:  53%|█████▎    | 413/782 [00:24<00:03, 114.40it/s]"
     ]
    },
    {
     "name": "stdout",
     "output_type": "stream",
     "text": [
      "  Batch 400/782, Current Avg Loss: 0.9396\n"
     ]
    },
    {
     "name": "stderr",
     "output_type": "stream",
     "text": [
      "Training Epoch 7:  67%|██████▋   | 521/782 [00:25<00:02, 111.37it/s]"
     ]
    },
    {
     "name": "stdout",
     "output_type": "stream",
     "text": [
      "  Batch 500/782, Current Avg Loss: 0.9456\n"
     ]
    },
    {
     "name": "stderr",
     "output_type": "stream",
     "text": [
      "Training Epoch 7:  79%|███████▊  | 615/782 [00:26<00:01, 112.54it/s]"
     ]
    },
    {
     "name": "stdout",
     "output_type": "stream",
     "text": [
      "  Batch 600/782, Current Avg Loss: 0.9500\n"
     ]
    },
    {
     "name": "stderr",
     "output_type": "stream",
     "text": [
      "Training Epoch 7:  92%|█████████▏| 723/782 [00:27<00:00, 113.40it/s]"
     ]
    },
    {
     "name": "stdout",
     "output_type": "stream",
     "text": [
      "  Batch 700/782, Current Avg Loss: 0.9467\n"
     ]
    },
    {
     "name": "stderr",
     "output_type": "stream",
     "text": [
      "Training Epoch 7: 100%|██████████| 782/782 [01:48<00:00,  7.23it/s] \n"
     ]
    },
    {
     "name": "stdout",
     "output_type": "stream",
     "text": [
      "Epoch [7] Average Train Loss: 0.9491\n"
     ]
    },
    {
     "name": "stderr",
     "output_type": "stream",
     "text": [
      "Testing: 100%|██████████| 157/157 [01:35<00:00,  1.64it/s]\n"
     ]
    },
    {
     "name": "stdout",
     "output_type": "stream",
     "text": [
      "Test Accuracy after Epoch [7]: 70.99%\n"
     ]
    },
    {
     "name": "stderr",
     "output_type": "stream",
     "text": [
      "Training Epoch 8:  14%|█▍        | 113/782 [00:21<00:13, 49.80it/s]"
     ]
    },
    {
     "name": "stdout",
     "output_type": "stream",
     "text": [
      "  Batch 100/782, Current Avg Loss: 0.8656\n"
     ]
    },
    {
     "name": "stderr",
     "output_type": "stream",
     "text": [
      "Training Epoch 8:  27%|██▋       | 215/782 [00:22<00:05, 104.42it/s]"
     ]
    },
    {
     "name": "stdout",
     "output_type": "stream",
     "text": [
      "  Batch 200/782, Current Avg Loss: 0.8823\n"
     ]
    },
    {
     "name": "stderr",
     "output_type": "stream",
     "text": [
      "Training Epoch 8:  41%|████▏     | 323/782 [00:23<00:03, 116.69it/s]"
     ]
    },
    {
     "name": "stdout",
     "output_type": "stream",
     "text": [
      "  Batch 300/782, Current Avg Loss: 0.8880\n"
     ]
    },
    {
     "name": "stderr",
     "output_type": "stream",
     "text": [
      "Training Epoch 8:  54%|█████▎    | 419/782 [00:24<00:03, 116.76it/s]"
     ]
    },
    {
     "name": "stdout",
     "output_type": "stream",
     "text": [
      "  Batch 400/782, Current Avg Loss: 0.8885\n"
     ]
    },
    {
     "name": "stderr",
     "output_type": "stream",
     "text": [
      "Training Epoch 8:  66%|██████▌   | 515/782 [00:25<00:02, 114.58it/s]"
     ]
    },
    {
     "name": "stdout",
     "output_type": "stream",
     "text": [
      "  Batch 500/782, Current Avg Loss: 0.8893\n"
     ]
    },
    {
     "name": "stderr",
     "output_type": "stream",
     "text": [
      "Training Epoch 8:  80%|███████▉  | 623/782 [00:26<00:01, 115.89it/s]"
     ]
    },
    {
     "name": "stdout",
     "output_type": "stream",
     "text": [
      "  Batch 600/782, Current Avg Loss: 0.8929\n"
     ]
    },
    {
     "name": "stderr",
     "output_type": "stream",
     "text": [
      "Training Epoch 8:  92%|█████████▏| 719/782 [00:26<00:00, 111.99it/s]"
     ]
    },
    {
     "name": "stdout",
     "output_type": "stream",
     "text": [
      "  Batch 700/782, Current Avg Loss: 0.8957\n"
     ]
    },
    {
     "name": "stderr",
     "output_type": "stream",
     "text": [
      "Training Epoch 8: 100%|██████████| 782/782 [01:47<00:00,  7.27it/s] \n"
     ]
    },
    {
     "name": "stdout",
     "output_type": "stream",
     "text": [
      "Epoch [8] Average Train Loss: 0.8969\n"
     ]
    },
    {
     "name": "stderr",
     "output_type": "stream",
     "text": [
      "Testing: 100%|██████████| 157/157 [01:36<00:00,  1.63it/s]\n"
     ]
    },
    {
     "name": "stdout",
     "output_type": "stream",
     "text": [
      "Test Accuracy after Epoch [8]: 72.31%\n"
     ]
    },
    {
     "name": "stderr",
     "output_type": "stream",
     "text": [
      "Training Epoch 9:  14%|█▍        | 113/782 [00:21<00:15, 42.32it/s]"
     ]
    },
    {
     "name": "stdout",
     "output_type": "stream",
     "text": [
      "  Batch 100/782, Current Avg Loss: 0.8417\n"
     ]
    },
    {
     "name": "stderr",
     "output_type": "stream",
     "text": [
      "Training Epoch 9:  28%|██▊       | 221/782 [00:22<00:05, 110.36it/s]"
     ]
    },
    {
     "name": "stdout",
     "output_type": "stream",
     "text": [
      "  Batch 200/782, Current Avg Loss: 0.8480\n"
     ]
    },
    {
     "name": "stderr",
     "output_type": "stream",
     "text": [
      "Training Epoch 9:  41%|████      | 317/782 [00:23<00:04, 115.35it/s]"
     ]
    },
    {
     "name": "stdout",
     "output_type": "stream",
     "text": [
      "  Batch 300/782, Current Avg Loss: 0.8488\n"
     ]
    },
    {
     "name": "stderr",
     "output_type": "stream",
     "text": [
      "Training Epoch 9:  54%|█████▍    | 421/782 [00:24<00:03, 106.10it/s]"
     ]
    },
    {
     "name": "stdout",
     "output_type": "stream",
     "text": [
      "  Batch 400/782, Current Avg Loss: 0.8528\n"
     ]
    },
    {
     "name": "stderr",
     "output_type": "stream",
     "text": [
      "Training Epoch 9:  66%|██████▌   | 517/782 [00:25<00:02, 102.91it/s]"
     ]
    },
    {
     "name": "stdout",
     "output_type": "stream",
     "text": [
      "  Batch 500/782, Current Avg Loss: 0.8587\n"
     ]
    },
    {
     "name": "stderr",
     "output_type": "stream",
     "text": [
      "Training Epoch 9:  79%|███████▉  | 620/782 [00:26<00:01, 110.48it/s]"
     ]
    },
    {
     "name": "stdout",
     "output_type": "stream",
     "text": [
      "  Batch 600/782, Current Avg Loss: 0.8582\n"
     ]
    },
    {
     "name": "stderr",
     "output_type": "stream",
     "text": [
      "Training Epoch 9:  92%|█████████▏| 716/782 [00:27<00:00, 115.94it/s]"
     ]
    },
    {
     "name": "stdout",
     "output_type": "stream",
     "text": [
      "  Batch 700/782, Current Avg Loss: 0.8584\n"
     ]
    },
    {
     "name": "stderr",
     "output_type": "stream",
     "text": [
      "Training Epoch 9: 100%|██████████| 782/782 [01:47<00:00,  7.27it/s] \n"
     ]
    },
    {
     "name": "stdout",
     "output_type": "stream",
     "text": [
      "Epoch [9] Average Train Loss: 0.8597\n"
     ]
    },
    {
     "name": "stderr",
     "output_type": "stream",
     "text": [
      "Testing: 100%|██████████| 157/157 [01:35<00:00,  1.65it/s]\n"
     ]
    },
    {
     "name": "stdout",
     "output_type": "stream",
     "text": [
      "Test Accuracy after Epoch [9]: 72.12%\n"
     ]
    },
    {
     "name": "stderr",
     "output_type": "stream",
     "text": [
      "Training Epoch 10:  15%|█▍        | 114/782 [00:21<00:15, 42.52it/s]"
     ]
    },
    {
     "name": "stdout",
     "output_type": "stream",
     "text": [
      "  Batch 100/782, Current Avg Loss: 0.7953\n"
     ]
    },
    {
     "name": "stderr",
     "output_type": "stream",
     "text": [
      "Training Epoch 10:  28%|██▊       | 222/782 [00:22<00:05, 107.66it/s]"
     ]
    },
    {
     "name": "stdout",
     "output_type": "stream",
     "text": [
      "  Batch 200/782, Current Avg Loss: 0.8089\n"
     ]
    },
    {
     "name": "stderr",
     "output_type": "stream",
     "text": [
      "Training Epoch 10:  41%|████      | 318/782 [00:22<00:04, 110.17it/s]"
     ]
    },
    {
     "name": "stdout",
     "output_type": "stream",
     "text": [
      "  Batch 300/782, Current Avg Loss: 0.8117\n"
     ]
    },
    {
     "name": "stderr",
     "output_type": "stream",
     "text": [
      "Training Epoch 10:  53%|█████▎    | 414/782 [00:23<00:03, 114.42it/s]"
     ]
    },
    {
     "name": "stdout",
     "output_type": "stream",
     "text": [
      "  Batch 400/782, Current Avg Loss: 0.8117\n"
     ]
    },
    {
     "name": "stderr",
     "output_type": "stream",
     "text": [
      "Training Epoch 10:  67%|██████▋   | 522/782 [00:24<00:02, 114.99it/s]"
     ]
    },
    {
     "name": "stdout",
     "output_type": "stream",
     "text": [
      "  Batch 500/782, Current Avg Loss: 0.8128\n"
     ]
    },
    {
     "name": "stderr",
     "output_type": "stream",
     "text": [
      "Training Epoch 10:  79%|███████▉  | 618/782 [00:25<00:01, 115.02it/s]"
     ]
    },
    {
     "name": "stdout",
     "output_type": "stream",
     "text": [
      "  Batch 600/782, Current Avg Loss: 0.8179\n"
     ]
    },
    {
     "name": "stderr",
     "output_type": "stream",
     "text": [
      "Training Epoch 10:  91%|█████████▏| 714/782 [00:26<00:00, 115.34it/s]"
     ]
    },
    {
     "name": "stdout",
     "output_type": "stream",
     "text": [
      "  Batch 700/782, Current Avg Loss: 0.8211\n"
     ]
    },
    {
     "name": "stderr",
     "output_type": "stream",
     "text": [
      "Training Epoch 10: 100%|██████████| 782/782 [01:47<00:00,  7.31it/s] \n"
     ]
    },
    {
     "name": "stdout",
     "output_type": "stream",
     "text": [
      "Epoch [10] Average Train Loss: 0.8238\n"
     ]
    },
    {
     "name": "stderr",
     "output_type": "stream",
     "text": [
      "Testing: 100%|██████████| 157/157 [01:35<00:00,  1.65it/s]"
     ]
    },
    {
     "name": "stdout",
     "output_type": "stream",
     "text": [
      "Test Accuracy after Epoch [10]: 72.48%\n"
     ]
    },
    {
     "name": "stderr",
     "output_type": "stream",
     "text": [
      "\n"
     ]
    }
   ],
   "execution_count": 5
  },
  {
   "cell_type": "code",
   "metadata": {
    "ExecuteTime": {
     "end_time": "2025-05-25T13:34:19.746852Z",
     "start_time": "2025-05-25T13:32:43.498843Z"
    }
   },
   "source": [
    "# 步骤六：模型评估\n",
    "# 6.1 最后一次测试\n",
    "final_acc, pred_y, true_y = test()\n",
    "print(f\"\\nFinal Test Accuracy: {final_acc:.2f}%\")\n",
    "\n",
    "# 6.2 绘制训练loss变化曲线\n",
    "plt.figure()\n",
    "plt.plot(range(1, EPOCH + 1), train_losses, marker='o', label='Train Loss')\n",
    "plt.xlabel(\"Epoch\")\n",
    "plt.ylabel(\"Loss\")\n",
    "plt.title(\"Training Loss over Epochs\")\n",
    "plt.legend()\n",
    "plt.grid(True)\n",
    "plt.savefig('./output/train_loss_curve.png')\n",
    "plt.show()\n",
    "\n",
    "# 6.3 绘制测试准确率变化曲线\n",
    "plt.figure()\n",
    "plt.plot(range(1, EPOCH + 1), test_accuracies, marker='s', color='orange', label='Test Accuracy')\n",
    "plt.xlabel(\"Epoch\")\n",
    "plt.ylabel(\"Accuracy\")\n",
    "plt.title(\"Test Accuracy over Epochs\")\n",
    "plt.legend()\n",
    "plt.grid(True)\n",
    "plt.savefig('./output/test_accuracy_curve.png')\n",
    "plt.show()\n",
    "\n",
    "# 6.4 绘制混淆矩阵\n",
    "conf_mat = confusion_matrix(true_y.numpy(), pred_y.numpy())\n",
    "\n",
    "plt.figure(figsize=(8, 6))\n",
    "sns.heatmap(conf_mat, annot=True, fmt='d', cmap='Blues')\n",
    "plt.xlabel(\"Predicted Label\")\n",
    "plt.ylabel(\"True Label\")\n",
    "plt.title(\"Confusion Matrix on CIFAR-10 Test Set\")\n",
    "plt.savefig('./output/confusion_matrix.png')\n",
    "plt.show()\n",
    "\n",
    "# 6.5 打印前10个预测结果\n",
    "print('Prediction:', pred_y[:10].numpy())\n",
    "print('Actual:    ', true_y[:10].numpy())"
   ],
   "outputs": [
    {
     "name": "stderr",
     "output_type": "stream",
     "text": [
      "Testing: 100%|██████████| 157/157 [01:35<00:00,  1.64it/s]\n"
     ]
    },
    {
     "name": "stdout",
     "output_type": "stream",
     "text": [
      "\n",
      "Final Test Accuracy: 72.48%\n"
     ]
    },
    {
     "data": {
      "text/plain": [
       "<Figure size 640x480 with 1 Axes>"
      ],
      "image/png": "[encoded data removed]"
     },
     "metadata": {},
     "output_type": "display_data"
    },
    {
     "data": {
      "text/plain": [
       "<Figure size 640x480 with 1 Axes>"
      ],
      "image/png": "[encoded data removed]"
     },
     "metadata": {},
     "output_type": "display_data"
    },
    {
     "data": {
      "text/plain": [
       "<Figure size 800x600 with 2 Axes>"
      ],
      "image/png": "[encoded data removed]"
     },
     "metadata": {},
     "output_type": "display_data"
    },
    {
     "name": "stdout",
     "output_type": "stream",
     "text": [
      "Prediction: [3 8 0 0 6 6 1 6 3 1]\n",
      "Actual:     [3 8 8 0 6 6 1 6 3 1]\n"
     ]
    }
   ],
   "execution_count": 7
  },
  {
   "cell_type": "code",
   "metadata": {
    "ExecuteTime": {
     "end_time": "2025-05-25T11:54:40.884905Z",
     "start_time": "2025-05-25T11:54:40.865084Z"
    }
   },
   "source": [
    "# 步骤七：保存模型与结果\n",
    "torch.save(cnn.state_dict(), './output/cifar10_cnn_model.pth')\n",
    "print(\"Model saved to ./output/cifar10_cnn_model.pth\")"
   ],
   "outputs": [
    {
     "name": "stdout",
     "output_type": "stream",
     "text": [
      "Model saved to ./output/cifar10_cnn_model.pth\n"
     ]
    }
   ],
   "execution_count": 8
  },
  {
   "cell_type": "code",
   "metadata": {
    "ExecuteTime": {
     "end_time": "2025-05-25T13:35:39.368881Z",
     "start_time": "2025-05-25T13:35:14.417735Z"
    }
   },
   "source": [
    "# 步骤八：推理结果可视化\n",
    "# 8.1 CIFAR10 类别标签\n",
    "classes = ['plane', 'car', 'bird', 'cat', 'deer',\n",
    "           'dog', 'frog', 'horse', 'ship', 'truck']\n",
    "\n",
    "\n",
    "# 8.2 可视化推理函数\n",
    "def visualize_cifar10_predictions(model, test_loader, device='mps', num_images=10):\n",
    "    \"\"\"\n",
    "    可视化模型在 CIFAR-10 测试集上的部分预测结果（RGB 彩色图）\n",
    "    \"\"\"\n",
    "    model.eval()\n",
    "    shown = 0\n",
    "    plt.figure(figsize=(15, 6))\n",
    "\n",
    "    mean = torch.tensor(cifar10_mean, device=device).view(3, 1, 1)\n",
    "    std = torch.tensor(cifar10_std, device=device).view(3, 1, 1)\n",
    "\n",
    "    with torch.no_grad():\n",
    "        for inputs, targets in test_loader:\n",
    "            inputs, targets = inputs.to(device), targets.to(device)\n",
    "            outputs = model(inputs)\n",
    "            _, predicted = torch.max(outputs, 1)\n",
    "\n",
    "            for i in range(inputs.size(0)):\n",
    "                if shown >= num_images:\n",
    "                    break\n",
    "\n",
    "                # 提取第 i 张图像并反归一化\n",
    "                img_tensor = inputs[i]\n",
    "                img_tensor = img_tensor * std + mean\n",
    "                img_tensor = torch.clamp(img_tensor, 0, 1)\n",
    "                img = img_tensor.cpu().permute(1, 2, 0).numpy()\n",
    "\n",
    "                true_label = classes[targets[i].item()]\n",
    "                pred_label = classes[predicted[i].item()]\n",
    "\n",
    "                plt.subplot(2, (num_images + 1) // 2, shown + 1)\n",
    "                plt.imshow(img)\n",
    "                color = \"green\" if pred_label == true_label else \"red\"\n",
    "                plt.title(f\"Pred: {pred_label}\\nTrue: {true_label}\", color=color)\n",
    "                plt.axis('off')\n",
    "                shown += 1\n",
    "\n",
    "            if shown >= num_images:\n",
    "                break\n",
    "\n",
    "    plt.suptitle(\"CIFAR-10 Inference Results on Test Images\", fontsize=16)\n",
    "    plt.tight_layout(rect=[0, 0.03, 1, 0.95])\n",
    "    plt.savefig('./output/cifar10_test_predictions.png')\n",
    "    plt.show()\n",
    "\n",
    "\n",
    "# 8.3 执行推理可视化\n",
    "visualize_cifar10_predictions(cnn, test_loader, device=DEVICE, num_images=10)"
   ],
   "outputs": [
    {
     "data": {
      "text/plain": [
       "<Figure size 1500x600 with 10 Axes>"
      ],
      "image/png": "[encoded data removed]"
     },
     "metadata": {},
     "output_type": "display_data"
    }
   ],
   "execution_count": 9
  }
 ],
 "metadata": {
  "kernelspec": {
   "display_name": "MindSpore",
   "language": "python",
   "name": "mindspore"
  },
  "language_info": {
   "codemirror_mode": {
    "name": "ipython",
    "version": 3
   },
   "file_extension": ".py",
   "mimetype": "text/x-python",
   "name": "python",
   "nbconvert_exporter": "python",
   "pygments_lexer": "ipython3",
   "version": "3.9.18"
  }
 },
 "nbformat": 4,
 "nbformat_minor": 4
}
